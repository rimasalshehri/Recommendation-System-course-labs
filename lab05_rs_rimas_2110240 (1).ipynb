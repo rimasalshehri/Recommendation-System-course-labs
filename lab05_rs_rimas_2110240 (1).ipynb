{
  "metadata": {
    "colab": {
      "provenance": [],
      "gpuType": "V28",
      "machine_shape": "hm"
    },
    "kernelspec": {
      "name": "python3",
      "display_name": "Python 3"
    },
    "language_info": {
      "name": "python",
      "version": "3.10.14",
      "mimetype": "text/x-python",
      "codemirror_mode": {
        "name": "ipython",
        "version": 3
      },
      "pygments_lexer": "ipython3",
      "nbconvert_exporter": "python",
      "file_extension": ".py"
    },
    "accelerator": "TPU",
    "kaggle": {
      "accelerator": "none",
      "dataSources": [
        {
          "sourceId": 9747418,
          "sourceType": "datasetVersion",
          "datasetId": 5967381
        }
      ],
      "dockerImageVersionId": 30786,
      "isInternetEnabled": true,
      "language": "python",
      "sourceType": "notebook",
      "isGpuEnabled": false
    }
  },
  "nbformat_minor": 0,
  "nbformat": 4,
  "cells": [
    {
      "cell_type": "markdown",
      "source": [
        "##Lab 5\n",
        "###part 1"
      ],
      "metadata": {
        "id": "CKv5AuoUVEIJ"
      }
    },
    {
      "cell_type": "code",
      "source": [
        "#1.\tImport the libraries\n",
        "\n",
        "import numpy as np\n",
        "#Import TfIdfVectorizer from the scikit-learn library\n",
        "from sklearn.feature_extraction.text import TfidfVectorizer\n",
        "# Import cosine_similarity to compute the dot product\n",
        "from sklearn.metrics.pairwise import cosine_similarity\n"
      ],
      "metadata": {
        "id": "T9M9cNQfS9Ng",
        "execution": {
          "iopub.status.busy": "2024-10-28T19:37:48.850289Z",
          "iopub.execute_input": "2024-10-28T19:37:48.851264Z",
          "iopub.status.idle": "2024-10-28T19:37:48.857001Z",
          "shell.execute_reply.started": "2024-10-28T19:37:48.851210Z",
          "shell.execute_reply": "2024-10-28T19:37:48.855836Z"
        },
        "trusted": true
      },
      "execution_count": 1,
      "outputs": []
    },
    {
      "cell_type": "code",
      "source": [
        "#2.\tLoad the dataset into a datafrme\n",
        "import pandas as pd\n",
        "#Import data from the clean file\n",
        "df = pd.read_csv('/content/ccai422_lab05_part1_1_data.csv')\n",
        "\n",
        "#Print the head of the cleaned DataFrame\n",
        "df.head()\n"
      ],
      "metadata": {
        "colab": {
          "base_uri": "https://localhost:8080/",
          "height": 206
        },
        "id": "6fDxoB-XVQwv",
        "outputId": "acc9dd3c-c91f-45c6-f2c5-0cad8e38dd12",
        "execution": {
          "iopub.status.busy": "2024-10-28T19:37:50.091918Z",
          "iopub.execute_input": "2024-10-28T19:37:50.092359Z",
          "iopub.status.idle": "2024-10-28T19:37:51.451236Z",
          "shell.execute_reply.started": "2024-10-28T19:37:50.092319Z",
          "shell.execute_reply": "2024-10-28T19:37:51.450025Z"
        },
        "trusted": true
      },
      "execution_count": 2,
      "outputs": [
        {
          "output_type": "execute_result",
          "data": {
            "text/plain": [
              "                         title                              genres  runtime  \\\n",
              "0                    Toy Story   ['Animation', 'Comedy', 'Family']     81.0   \n",
              "1                      Jumanji  ['Adventure', 'Fantasy', 'Family']    104.0   \n",
              "2             Grumpier Old Men               ['Romance', 'Comedy']    101.0   \n",
              "3            Waiting to Exhale      ['Comedy', 'Drama', 'Romance']    127.0   \n",
              "4  Father of the Bride Part II                          ['Comedy']    106.0   \n",
              "\n",
              "   vote_average  vote_count  year  \n",
              "0           7.7      5415.0  1995  \n",
              "1           6.9      2413.0  1995  \n",
              "2           6.5        92.0  1995  \n",
              "3           6.1        34.0  1995  \n",
              "4           5.7       173.0  1995  "
            ],
            "text/html": [
              "\n",
              "  <div id=\"df-5d06daf8-daf6-40c7-b182-3366ffdb9bd6\" class=\"colab-df-container\">\n",
              "    <div>\n",
              "<style scoped>\n",
              "    .dataframe tbody tr th:only-of-type {\n",
              "        vertical-align: middle;\n",
              "    }\n",
              "\n",
              "    .dataframe tbody tr th {\n",
              "        vertical-align: top;\n",
              "    }\n",
              "\n",
              "    .dataframe thead th {\n",
              "        text-align: right;\n",
              "    }\n",
              "</style>\n",
              "<table border=\"1\" class=\"dataframe\">\n",
              "  <thead>\n",
              "    <tr style=\"text-align: right;\">\n",
              "      <th></th>\n",
              "      <th>title</th>\n",
              "      <th>genres</th>\n",
              "      <th>runtime</th>\n",
              "      <th>vote_average</th>\n",
              "      <th>vote_count</th>\n",
              "      <th>year</th>\n",
              "    </tr>\n",
              "  </thead>\n",
              "  <tbody>\n",
              "    <tr>\n",
              "      <th>0</th>\n",
              "      <td>Toy Story</td>\n",
              "      <td>['Animation', 'Comedy', 'Family']</td>\n",
              "      <td>81.0</td>\n",
              "      <td>7.7</td>\n",
              "      <td>5415.0</td>\n",
              "      <td>1995</td>\n",
              "    </tr>\n",
              "    <tr>\n",
              "      <th>1</th>\n",
              "      <td>Jumanji</td>\n",
              "      <td>['Adventure', 'Fantasy', 'Family']</td>\n",
              "      <td>104.0</td>\n",
              "      <td>6.9</td>\n",
              "      <td>2413.0</td>\n",
              "      <td>1995</td>\n",
              "    </tr>\n",
              "    <tr>\n",
              "      <th>2</th>\n",
              "      <td>Grumpier Old Men</td>\n",
              "      <td>['Romance', 'Comedy']</td>\n",
              "      <td>101.0</td>\n",
              "      <td>6.5</td>\n",
              "      <td>92.0</td>\n",
              "      <td>1995</td>\n",
              "    </tr>\n",
              "    <tr>\n",
              "      <th>3</th>\n",
              "      <td>Waiting to Exhale</td>\n",
              "      <td>['Comedy', 'Drama', 'Romance']</td>\n",
              "      <td>127.0</td>\n",
              "      <td>6.1</td>\n",
              "      <td>34.0</td>\n",
              "      <td>1995</td>\n",
              "    </tr>\n",
              "    <tr>\n",
              "      <th>4</th>\n",
              "      <td>Father of the Bride Part II</td>\n",
              "      <td>['Comedy']</td>\n",
              "      <td>106.0</td>\n",
              "      <td>5.7</td>\n",
              "      <td>173.0</td>\n",
              "      <td>1995</td>\n",
              "    </tr>\n",
              "  </tbody>\n",
              "</table>\n",
              "</div>\n",
              "    <div class=\"colab-df-buttons\">\n",
              "\n",
              "  <div class=\"colab-df-container\">\n",
              "    <button class=\"colab-df-convert\" onclick=\"convertToInteractive('df-5d06daf8-daf6-40c7-b182-3366ffdb9bd6')\"\n",
              "            title=\"Convert this dataframe to an interactive table.\"\n",
              "            style=\"display:none;\">\n",
              "\n",
              "  <svg xmlns=\"http://www.w3.org/2000/svg\" height=\"24px\" viewBox=\"0 -960 960 960\">\n",
              "    <path d=\"M120-120v-720h720v720H120Zm60-500h600v-160H180v160Zm220 220h160v-160H400v160Zm0 220h160v-160H400v160ZM180-400h160v-160H180v160Zm440 0h160v-160H620v160ZM180-180h160v-160H180v160Zm440 0h160v-160H620v160Z\"/>\n",
              "  </svg>\n",
              "    </button>\n",
              "\n",
              "  <style>\n",
              "    .colab-df-container {\n",
              "      display:flex;\n",
              "      gap: 12px;\n",
              "    }\n",
              "\n",
              "    .colab-df-convert {\n",
              "      background-color: #E8F0FE;\n",
              "      border: none;\n",
              "      border-radius: 50%;\n",
              "      cursor: pointer;\n",
              "      display: none;\n",
              "      fill: #1967D2;\n",
              "      height: 32px;\n",
              "      padding: 0 0 0 0;\n",
              "      width: 32px;\n",
              "    }\n",
              "\n",
              "    .colab-df-convert:hover {\n",
              "      background-color: #E2EBFA;\n",
              "      box-shadow: 0px 1px 2px rgba(60, 64, 67, 0.3), 0px 1px 3px 1px rgba(60, 64, 67, 0.15);\n",
              "      fill: #174EA6;\n",
              "    }\n",
              "\n",
              "    .colab-df-buttons div {\n",
              "      margin-bottom: 4px;\n",
              "    }\n",
              "\n",
              "    [theme=dark] .colab-df-convert {\n",
              "      background-color: #3B4455;\n",
              "      fill: #D2E3FC;\n",
              "    }\n",
              "\n",
              "    [theme=dark] .colab-df-convert:hover {\n",
              "      background-color: #434B5C;\n",
              "      box-shadow: 0px 1px 3px 1px rgba(0, 0, 0, 0.15);\n",
              "      filter: drop-shadow(0px 1px 2px rgba(0, 0, 0, 0.3));\n",
              "      fill: #FFFFFF;\n",
              "    }\n",
              "  </style>\n",
              "\n",
              "    <script>\n",
              "      const buttonEl =\n",
              "        document.querySelector('#df-5d06daf8-daf6-40c7-b182-3366ffdb9bd6 button.colab-df-convert');\n",
              "      buttonEl.style.display =\n",
              "        google.colab.kernel.accessAllowed ? 'block' : 'none';\n",
              "\n",
              "      async function convertToInteractive(key) {\n",
              "        const element = document.querySelector('#df-5d06daf8-daf6-40c7-b182-3366ffdb9bd6');\n",
              "        const dataTable =\n",
              "          await google.colab.kernel.invokeFunction('convertToInteractive',\n",
              "                                                    [key], {});\n",
              "        if (!dataTable) return;\n",
              "\n",
              "        const docLinkHtml = 'Like what you see? Visit the ' +\n",
              "          '<a target=\"_blank\" href=https://colab.research.google.com/notebooks/data_table.ipynb>data table notebook</a>'\n",
              "          + ' to learn more about interactive tables.';\n",
              "        element.innerHTML = '';\n",
              "        dataTable['output_type'] = 'display_data';\n",
              "        await google.colab.output.renderOutput(dataTable, element);\n",
              "        const docLink = document.createElement('div');\n",
              "        docLink.innerHTML = docLinkHtml;\n",
              "        element.appendChild(docLink);\n",
              "      }\n",
              "    </script>\n",
              "  </div>\n",
              "\n",
              "\n",
              "<div id=\"df-b39a3dc8-2b94-40c6-960b-08d540a6e590\">\n",
              "  <button class=\"colab-df-quickchart\" onclick=\"quickchart('df-b39a3dc8-2b94-40c6-960b-08d540a6e590')\"\n",
              "            title=\"Suggest charts\"\n",
              "            style=\"display:none;\">\n",
              "\n",
              "<svg xmlns=\"http://www.w3.org/2000/svg\" height=\"24px\"viewBox=\"0 0 24 24\"\n",
              "     width=\"24px\">\n",
              "    <g>\n",
              "        <path d=\"M19 3H5c-1.1 0-2 .9-2 2v14c0 1.1.9 2 2 2h14c1.1 0 2-.9 2-2V5c0-1.1-.9-2-2-2zM9 17H7v-7h2v7zm4 0h-2V7h2v10zm4 0h-2v-4h2v4z\"/>\n",
              "    </g>\n",
              "</svg>\n",
              "  </button>\n",
              "\n",
              "<style>\n",
              "  .colab-df-quickchart {\n",
              "      --bg-color: #E8F0FE;\n",
              "      --fill-color: #1967D2;\n",
              "      --hover-bg-color: #E2EBFA;\n",
              "      --hover-fill-color: #174EA6;\n",
              "      --disabled-fill-color: #AAA;\n",
              "      --disabled-bg-color: #DDD;\n",
              "  }\n",
              "\n",
              "  [theme=dark] .colab-df-quickchart {\n",
              "      --bg-color: #3B4455;\n",
              "      --fill-color: #D2E3FC;\n",
              "      --hover-bg-color: #434B5C;\n",
              "      --hover-fill-color: #FFFFFF;\n",
              "      --disabled-bg-color: #3B4455;\n",
              "      --disabled-fill-color: #666;\n",
              "  }\n",
              "\n",
              "  .colab-df-quickchart {\n",
              "    background-color: var(--bg-color);\n",
              "    border: none;\n",
              "    border-radius: 50%;\n",
              "    cursor: pointer;\n",
              "    display: none;\n",
              "    fill: var(--fill-color);\n",
              "    height: 32px;\n",
              "    padding: 0;\n",
              "    width: 32px;\n",
              "  }\n",
              "\n",
              "  .colab-df-quickchart:hover {\n",
              "    background-color: var(--hover-bg-color);\n",
              "    box-shadow: 0 1px 2px rgba(60, 64, 67, 0.3), 0 1px 3px 1px rgba(60, 64, 67, 0.15);\n",
              "    fill: var(--button-hover-fill-color);\n",
              "  }\n",
              "\n",
              "  .colab-df-quickchart-complete:disabled,\n",
              "  .colab-df-quickchart-complete:disabled:hover {\n",
              "    background-color: var(--disabled-bg-color);\n",
              "    fill: var(--disabled-fill-color);\n",
              "    box-shadow: none;\n",
              "  }\n",
              "\n",
              "  .colab-df-spinner {\n",
              "    border: 2px solid var(--fill-color);\n",
              "    border-color: transparent;\n",
              "    border-bottom-color: var(--fill-color);\n",
              "    animation:\n",
              "      spin 1s steps(1) infinite;\n",
              "  }\n",
              "\n",
              "  @keyframes spin {\n",
              "    0% {\n",
              "      border-color: transparent;\n",
              "      border-bottom-color: var(--fill-color);\n",
              "      border-left-color: var(--fill-color);\n",
              "    }\n",
              "    20% {\n",
              "      border-color: transparent;\n",
              "      border-left-color: var(--fill-color);\n",
              "      border-top-color: var(--fill-color);\n",
              "    }\n",
              "    30% {\n",
              "      border-color: transparent;\n",
              "      border-left-color: var(--fill-color);\n",
              "      border-top-color: var(--fill-color);\n",
              "      border-right-color: var(--fill-color);\n",
              "    }\n",
              "    40% {\n",
              "      border-color: transparent;\n",
              "      border-right-color: var(--fill-color);\n",
              "      border-top-color: var(--fill-color);\n",
              "    }\n",
              "    60% {\n",
              "      border-color: transparent;\n",
              "      border-right-color: var(--fill-color);\n",
              "    }\n",
              "    80% {\n",
              "      border-color: transparent;\n",
              "      border-right-color: var(--fill-color);\n",
              "      border-bottom-color: var(--fill-color);\n",
              "    }\n",
              "    90% {\n",
              "      border-color: transparent;\n",
              "      border-bottom-color: var(--fill-color);\n",
              "    }\n",
              "  }\n",
              "</style>\n",
              "\n",
              "  <script>\n",
              "    async function quickchart(key) {\n",
              "      const quickchartButtonEl =\n",
              "        document.querySelector('#' + key + ' button');\n",
              "      quickchartButtonEl.disabled = true;  // To prevent multiple clicks.\n",
              "      quickchartButtonEl.classList.add('colab-df-spinner');\n",
              "      try {\n",
              "        const charts = await google.colab.kernel.invokeFunction(\n",
              "            'suggestCharts', [key], {});\n",
              "      } catch (error) {\n",
              "        console.error('Error during call to suggestCharts:', error);\n",
              "      }\n",
              "      quickchartButtonEl.classList.remove('colab-df-spinner');\n",
              "      quickchartButtonEl.classList.add('colab-df-quickchart-complete');\n",
              "    }\n",
              "    (() => {\n",
              "      let quickchartButtonEl =\n",
              "        document.querySelector('#df-b39a3dc8-2b94-40c6-960b-08d540a6e590 button');\n",
              "      quickchartButtonEl.style.display =\n",
              "        google.colab.kernel.accessAllowed ? 'block' : 'none';\n",
              "    })();\n",
              "  </script>\n",
              "</div>\n",
              "\n",
              "    </div>\n",
              "  </div>\n"
            ],
            "application/vnd.google.colaboratory.intrinsic+json": {
              "type": "dataframe",
              "variable_name": "df",
              "summary": "{\n  \"name\": \"df\",\n  \"rows\": 45466,\n  \"fields\": [\n    {\n      \"column\": \"title\",\n      \"properties\": {\n        \"dtype\": \"string\",\n        \"num_unique_values\": 42277,\n        \"samples\": [\n          \"Far Away\",\n          \"Sully\",\n          \"Z for Zachariah\"\n        ],\n        \"semantic_type\": \"\",\n        \"description\": \"\"\n      }\n    },\n    {\n      \"column\": \"genres\",\n      \"properties\": {\n        \"dtype\": \"category\",\n        \"num_unique_values\": 4069,\n        \"samples\": [\n          \"['Thriller', 'Animation', 'Crime']\",\n          \"['Action', 'Fantasy', 'Mystery']\",\n          \"['War', 'Thriller', 'Drama']\"\n        ],\n        \"semantic_type\": \"\",\n        \"description\": \"\"\n      }\n    },\n    {\n      \"column\": \"runtime\",\n      \"properties\": {\n        \"dtype\": \"number\",\n        \"std\": 38.40781048550845,\n        \"min\": 0.0,\n        \"max\": 1256.0,\n        \"num_unique_values\": 353,\n        \"samples\": [\n          47.0,\n          175.0,\n          206.0\n        ],\n        \"semantic_type\": \"\",\n        \"description\": \"\"\n      }\n    },\n    {\n      \"column\": \"vote_average\",\n      \"properties\": {\n        \"dtype\": \"number\",\n        \"std\": 1.924215991523014,\n        \"min\": 0.0,\n        \"max\": 10.0,\n        \"num_unique_values\": 92,\n        \"samples\": [\n          3.8,\n          8.1,\n          3.7\n        ],\n        \"semantic_type\": \"\",\n        \"description\": \"\"\n      }\n    },\n    {\n      \"column\": \"vote_count\",\n      \"properties\": {\n        \"dtype\": \"number\",\n        \"std\": 491.3103739396591,\n        \"min\": 0.0,\n        \"max\": 14075.0,\n        \"num_unique_values\": 1820,\n        \"samples\": [\n          5912.0,\n          1588.0,\n          12.0\n        ],\n        \"semantic_type\": \"\",\n        \"description\": \"\"\n      }\n    },\n    {\n      \"column\": \"year\",\n      \"properties\": {\n        \"dtype\": \"number\",\n        \"std\": 91,\n        \"min\": 0,\n        \"max\": 2020,\n        \"num_unique_values\": 136,\n        \"samples\": [\n          1922,\n          1951,\n          1936\n        ],\n        \"semantic_type\": \"\",\n        \"description\": \"\"\n      }\n    }\n  ]\n}"
            }
          },
          "metadata": {},
          "execution_count": 2
        }
      ]
    },
    {
      "cell_type": "code",
      "source": [
        "#Import the original file\n",
        "orig_df = pd.read_csv('/content/ccai422_lab05_part1_2_data.csv', low_memory=False)\n",
        "\n",
        "#Add the useful features into the cleaned dataframe\n",
        "df['overview'], df['id'] = orig_df['overview'], orig_df['id']\n",
        "orig_df.head()\n"
      ],
      "metadata": {
        "colab": {
          "base_uri": "https://localhost:8080/",
          "height": 706
        },
        "id": "3EAqhKRGVf7U",
        "outputId": "71816e77-2f69-47c2-c1d3-79afcc4cc58b",
        "execution": {
          "iopub.status.busy": "2024-10-28T19:37:52.262299Z",
          "iopub.execute_input": "2024-10-28T19:37:52.262789Z",
          "iopub.status.idle": "2024-10-28T19:37:53.551650Z",
          "shell.execute_reply.started": "2024-10-28T19:37:52.262741Z",
          "shell.execute_reply": "2024-10-28T19:37:53.550434Z"
        },
        "trusted": true
      },
      "execution_count": 3,
      "outputs": [
        {
          "output_type": "execute_result",
          "data": {
            "text/plain": [
              "   adult                              belongs_to_collection    budget  \\\n",
              "0  False  {'id': 10194, 'name': 'Toy Story Collection', ...  30000000   \n",
              "1  False                                                NaN  65000000   \n",
              "2  False  {'id': 119050, 'name': 'Grumpy Old Men Collect...         0   \n",
              "3  False                                                NaN  16000000   \n",
              "4  False  {'id': 96871, 'name': 'Father of the Bride Col...         0   \n",
              "\n",
              "                                              genres  \\\n",
              "0  [{'id': 16, 'name': 'Animation'}, {'id': 35, '...   \n",
              "1  [{'id': 12, 'name': 'Adventure'}, {'id': 14, '...   \n",
              "2  [{'id': 10749, 'name': 'Romance'}, {'id': 35, ...   \n",
              "3  [{'id': 35, 'name': 'Comedy'}, {'id': 18, 'nam...   \n",
              "4                     [{'id': 35, 'name': 'Comedy'}]   \n",
              "\n",
              "                               homepage     id    imdb_id original_language  \\\n",
              "0  http://toystory.disney.com/toy-story    862  tt0114709                en   \n",
              "1                                   NaN   8844  tt0113497                en   \n",
              "2                                   NaN  15602  tt0113228                en   \n",
              "3                                   NaN  31357  tt0114885                en   \n",
              "4                                   NaN  11862  tt0113041                en   \n",
              "\n",
              "                original_title  \\\n",
              "0                    Toy Story   \n",
              "1                      Jumanji   \n",
              "2             Grumpier Old Men   \n",
              "3            Waiting to Exhale   \n",
              "4  Father of the Bride Part II   \n",
              "\n",
              "                                            overview  ... release_date  \\\n",
              "0  Led by Woody, Andy's toys live happily in his ...  ...   1995-10-30   \n",
              "1  When siblings Judy and Peter discover an encha...  ...   1995-12-15   \n",
              "2  A family wedding reignites the ancient feud be...  ...   1995-12-22   \n",
              "3  Cheated on, mistreated and stepped on, the wom...  ...   1995-12-22   \n",
              "4  Just when George Banks has recovered from his ...  ...   1995-02-10   \n",
              "\n",
              "       revenue runtime                                   spoken_languages  \\\n",
              "0  373554033.0    81.0           [{'iso_639_1': 'en', 'name': 'English'}]   \n",
              "1  262797249.0   104.0  [{'iso_639_1': 'en', 'name': 'English'}, {'iso...   \n",
              "2          0.0   101.0           [{'iso_639_1': 'en', 'name': 'English'}]   \n",
              "3   81452156.0   127.0           [{'iso_639_1': 'en', 'name': 'English'}]   \n",
              "4   76578911.0   106.0           [{'iso_639_1': 'en', 'name': 'English'}]   \n",
              "\n",
              "     status                                            tagline  \\\n",
              "0  Released                                                NaN   \n",
              "1  Released          Roll the dice and unleash the excitement!   \n",
              "2  Released  Still Yelling. Still Fighting. Still Ready for...   \n",
              "3  Released  Friends are the people who let you be yourself...   \n",
              "4  Released  Just When His World Is Back To Normal... He's ...   \n",
              "\n",
              "                         title  video vote_average vote_count  \n",
              "0                    Toy Story  False          7.7     5415.0  \n",
              "1                      Jumanji  False          6.9     2413.0  \n",
              "2             Grumpier Old Men  False          6.5       92.0  \n",
              "3            Waiting to Exhale  False          6.1       34.0  \n",
              "4  Father of the Bride Part II  False          5.7      173.0  \n",
              "\n",
              "[5 rows x 24 columns]"
            ],
            "text/html": [
              "\n",
              "  <div id=\"df-8fef0834-0d4c-478b-890e-7936533ffb64\" class=\"colab-df-container\">\n",
              "    <div>\n",
              "<style scoped>\n",
              "    .dataframe tbody tr th:only-of-type {\n",
              "        vertical-align: middle;\n",
              "    }\n",
              "\n",
              "    .dataframe tbody tr th {\n",
              "        vertical-align: top;\n",
              "    }\n",
              "\n",
              "    .dataframe thead th {\n",
              "        text-align: right;\n",
              "    }\n",
              "</style>\n",
              "<table border=\"1\" class=\"dataframe\">\n",
              "  <thead>\n",
              "    <tr style=\"text-align: right;\">\n",
              "      <th></th>\n",
              "      <th>adult</th>\n",
              "      <th>belongs_to_collection</th>\n",
              "      <th>budget</th>\n",
              "      <th>genres</th>\n",
              "      <th>homepage</th>\n",
              "      <th>id</th>\n",
              "      <th>imdb_id</th>\n",
              "      <th>original_language</th>\n",
              "      <th>original_title</th>\n",
              "      <th>overview</th>\n",
              "      <th>...</th>\n",
              "      <th>release_date</th>\n",
              "      <th>revenue</th>\n",
              "      <th>runtime</th>\n",
              "      <th>spoken_languages</th>\n",
              "      <th>status</th>\n",
              "      <th>tagline</th>\n",
              "      <th>title</th>\n",
              "      <th>video</th>\n",
              "      <th>vote_average</th>\n",
              "      <th>vote_count</th>\n",
              "    </tr>\n",
              "  </thead>\n",
              "  <tbody>\n",
              "    <tr>\n",
              "      <th>0</th>\n",
              "      <td>False</td>\n",
              "      <td>{'id': 10194, 'name': 'Toy Story Collection', ...</td>\n",
              "      <td>30000000</td>\n",
              "      <td>[{'id': 16, 'name': 'Animation'}, {'id': 35, '...</td>\n",
              "      <td>http://toystory.disney.com/toy-story</td>\n",
              "      <td>862</td>\n",
              "      <td>tt0114709</td>\n",
              "      <td>en</td>\n",
              "      <td>Toy Story</td>\n",
              "      <td>Led by Woody, Andy's toys live happily in his ...</td>\n",
              "      <td>...</td>\n",
              "      <td>1995-10-30</td>\n",
              "      <td>373554033.0</td>\n",
              "      <td>81.0</td>\n",
              "      <td>[{'iso_639_1': 'en', 'name': 'English'}]</td>\n",
              "      <td>Released</td>\n",
              "      <td>NaN</td>\n",
              "      <td>Toy Story</td>\n",
              "      <td>False</td>\n",
              "      <td>7.7</td>\n",
              "      <td>5415.0</td>\n",
              "    </tr>\n",
              "    <tr>\n",
              "      <th>1</th>\n",
              "      <td>False</td>\n",
              "      <td>NaN</td>\n",
              "      <td>65000000</td>\n",
              "      <td>[{'id': 12, 'name': 'Adventure'}, {'id': 14, '...</td>\n",
              "      <td>NaN</td>\n",
              "      <td>8844</td>\n",
              "      <td>tt0113497</td>\n",
              "      <td>en</td>\n",
              "      <td>Jumanji</td>\n",
              "      <td>When siblings Judy and Peter discover an encha...</td>\n",
              "      <td>...</td>\n",
              "      <td>1995-12-15</td>\n",
              "      <td>262797249.0</td>\n",
              "      <td>104.0</td>\n",
              "      <td>[{'iso_639_1': 'en', 'name': 'English'}, {'iso...</td>\n",
              "      <td>Released</td>\n",
              "      <td>Roll the dice and unleash the excitement!</td>\n",
              "      <td>Jumanji</td>\n",
              "      <td>False</td>\n",
              "      <td>6.9</td>\n",
              "      <td>2413.0</td>\n",
              "    </tr>\n",
              "    <tr>\n",
              "      <th>2</th>\n",
              "      <td>False</td>\n",
              "      <td>{'id': 119050, 'name': 'Grumpy Old Men Collect...</td>\n",
              "      <td>0</td>\n",
              "      <td>[{'id': 10749, 'name': 'Romance'}, {'id': 35, ...</td>\n",
              "      <td>NaN</td>\n",
              "      <td>15602</td>\n",
              "      <td>tt0113228</td>\n",
              "      <td>en</td>\n",
              "      <td>Grumpier Old Men</td>\n",
              "      <td>A family wedding reignites the ancient feud be...</td>\n",
              "      <td>...</td>\n",
              "      <td>1995-12-22</td>\n",
              "      <td>0.0</td>\n",
              "      <td>101.0</td>\n",
              "      <td>[{'iso_639_1': 'en', 'name': 'English'}]</td>\n",
              "      <td>Released</td>\n",
              "      <td>Still Yelling. Still Fighting. Still Ready for...</td>\n",
              "      <td>Grumpier Old Men</td>\n",
              "      <td>False</td>\n",
              "      <td>6.5</td>\n",
              "      <td>92.0</td>\n",
              "    </tr>\n",
              "    <tr>\n",
              "      <th>3</th>\n",
              "      <td>False</td>\n",
              "      <td>NaN</td>\n",
              "      <td>16000000</td>\n",
              "      <td>[{'id': 35, 'name': 'Comedy'}, {'id': 18, 'nam...</td>\n",
              "      <td>NaN</td>\n",
              "      <td>31357</td>\n",
              "      <td>tt0114885</td>\n",
              "      <td>en</td>\n",
              "      <td>Waiting to Exhale</td>\n",
              "      <td>Cheated on, mistreated and stepped on, the wom...</td>\n",
              "      <td>...</td>\n",
              "      <td>1995-12-22</td>\n",
              "      <td>81452156.0</td>\n",
              "      <td>127.0</td>\n",
              "      <td>[{'iso_639_1': 'en', 'name': 'English'}]</td>\n",
              "      <td>Released</td>\n",
              "      <td>Friends are the people who let you be yourself...</td>\n",
              "      <td>Waiting to Exhale</td>\n",
              "      <td>False</td>\n",
              "      <td>6.1</td>\n",
              "      <td>34.0</td>\n",
              "    </tr>\n",
              "    <tr>\n",
              "      <th>4</th>\n",
              "      <td>False</td>\n",
              "      <td>{'id': 96871, 'name': 'Father of the Bride Col...</td>\n",
              "      <td>0</td>\n",
              "      <td>[{'id': 35, 'name': 'Comedy'}]</td>\n",
              "      <td>NaN</td>\n",
              "      <td>11862</td>\n",
              "      <td>tt0113041</td>\n",
              "      <td>en</td>\n",
              "      <td>Father of the Bride Part II</td>\n",
              "      <td>Just when George Banks has recovered from his ...</td>\n",
              "      <td>...</td>\n",
              "      <td>1995-02-10</td>\n",
              "      <td>76578911.0</td>\n",
              "      <td>106.0</td>\n",
              "      <td>[{'iso_639_1': 'en', 'name': 'English'}]</td>\n",
              "      <td>Released</td>\n",
              "      <td>Just When His World Is Back To Normal... He's ...</td>\n",
              "      <td>Father of the Bride Part II</td>\n",
              "      <td>False</td>\n",
              "      <td>5.7</td>\n",
              "      <td>173.0</td>\n",
              "    </tr>\n",
              "  </tbody>\n",
              "</table>\n",
              "<p>5 rows × 24 columns</p>\n",
              "</div>\n",
              "    <div class=\"colab-df-buttons\">\n",
              "\n",
              "  <div class=\"colab-df-container\">\n",
              "    <button class=\"colab-df-convert\" onclick=\"convertToInteractive('df-8fef0834-0d4c-478b-890e-7936533ffb64')\"\n",
              "            title=\"Convert this dataframe to an interactive table.\"\n",
              "            style=\"display:none;\">\n",
              "\n",
              "  <svg xmlns=\"http://www.w3.org/2000/svg\" height=\"24px\" viewBox=\"0 -960 960 960\">\n",
              "    <path d=\"M120-120v-720h720v720H120Zm60-500h600v-160H180v160Zm220 220h160v-160H400v160Zm0 220h160v-160H400v160ZM180-400h160v-160H180v160Zm440 0h160v-160H620v160ZM180-180h160v-160H180v160Zm440 0h160v-160H620v160Z\"/>\n",
              "  </svg>\n",
              "    </button>\n",
              "\n",
              "  <style>\n",
              "    .colab-df-container {\n",
              "      display:flex;\n",
              "      gap: 12px;\n",
              "    }\n",
              "\n",
              "    .colab-df-convert {\n",
              "      background-color: #E8F0FE;\n",
              "      border: none;\n",
              "      border-radius: 50%;\n",
              "      cursor: pointer;\n",
              "      display: none;\n",
              "      fill: #1967D2;\n",
              "      height: 32px;\n",
              "      padding: 0 0 0 0;\n",
              "      width: 32px;\n",
              "    }\n",
              "\n",
              "    .colab-df-convert:hover {\n",
              "      background-color: #E2EBFA;\n",
              "      box-shadow: 0px 1px 2px rgba(60, 64, 67, 0.3), 0px 1px 3px 1px rgba(60, 64, 67, 0.15);\n",
              "      fill: #174EA6;\n",
              "    }\n",
              "\n",
              "    .colab-df-buttons div {\n",
              "      margin-bottom: 4px;\n",
              "    }\n",
              "\n",
              "    [theme=dark] .colab-df-convert {\n",
              "      background-color: #3B4455;\n",
              "      fill: #D2E3FC;\n",
              "    }\n",
              "\n",
              "    [theme=dark] .colab-df-convert:hover {\n",
              "      background-color: #434B5C;\n",
              "      box-shadow: 0px 1px 3px 1px rgba(0, 0, 0, 0.15);\n",
              "      filter: drop-shadow(0px 1px 2px rgba(0, 0, 0, 0.3));\n",
              "      fill: #FFFFFF;\n",
              "    }\n",
              "  </style>\n",
              "\n",
              "    <script>\n",
              "      const buttonEl =\n",
              "        document.querySelector('#df-8fef0834-0d4c-478b-890e-7936533ffb64 button.colab-df-convert');\n",
              "      buttonEl.style.display =\n",
              "        google.colab.kernel.accessAllowed ? 'block' : 'none';\n",
              "\n",
              "      async function convertToInteractive(key) {\n",
              "        const element = document.querySelector('#df-8fef0834-0d4c-478b-890e-7936533ffb64');\n",
              "        const dataTable =\n",
              "          await google.colab.kernel.invokeFunction('convertToInteractive',\n",
              "                                                    [key], {});\n",
              "        if (!dataTable) return;\n",
              "\n",
              "        const docLinkHtml = 'Like what you see? Visit the ' +\n",
              "          '<a target=\"_blank\" href=https://colab.research.google.com/notebooks/data_table.ipynb>data table notebook</a>'\n",
              "          + ' to learn more about interactive tables.';\n",
              "        element.innerHTML = '';\n",
              "        dataTable['output_type'] = 'display_data';\n",
              "        await google.colab.output.renderOutput(dataTable, element);\n",
              "        const docLink = document.createElement('div');\n",
              "        docLink.innerHTML = docLinkHtml;\n",
              "        element.appendChild(docLink);\n",
              "      }\n",
              "    </script>\n",
              "  </div>\n",
              "\n",
              "\n",
              "<div id=\"df-c3bed88b-b164-4726-bb31-ae3fd4cbdac3\">\n",
              "  <button class=\"colab-df-quickchart\" onclick=\"quickchart('df-c3bed88b-b164-4726-bb31-ae3fd4cbdac3')\"\n",
              "            title=\"Suggest charts\"\n",
              "            style=\"display:none;\">\n",
              "\n",
              "<svg xmlns=\"http://www.w3.org/2000/svg\" height=\"24px\"viewBox=\"0 0 24 24\"\n",
              "     width=\"24px\">\n",
              "    <g>\n",
              "        <path d=\"M19 3H5c-1.1 0-2 .9-2 2v14c0 1.1.9 2 2 2h14c1.1 0 2-.9 2-2V5c0-1.1-.9-2-2-2zM9 17H7v-7h2v7zm4 0h-2V7h2v10zm4 0h-2v-4h2v4z\"/>\n",
              "    </g>\n",
              "</svg>\n",
              "  </button>\n",
              "\n",
              "<style>\n",
              "  .colab-df-quickchart {\n",
              "      --bg-color: #E8F0FE;\n",
              "      --fill-color: #1967D2;\n",
              "      --hover-bg-color: #E2EBFA;\n",
              "      --hover-fill-color: #174EA6;\n",
              "      --disabled-fill-color: #AAA;\n",
              "      --disabled-bg-color: #DDD;\n",
              "  }\n",
              "\n",
              "  [theme=dark] .colab-df-quickchart {\n",
              "      --bg-color: #3B4455;\n",
              "      --fill-color: #D2E3FC;\n",
              "      --hover-bg-color: #434B5C;\n",
              "      --hover-fill-color: #FFFFFF;\n",
              "      --disabled-bg-color: #3B4455;\n",
              "      --disabled-fill-color: #666;\n",
              "  }\n",
              "\n",
              "  .colab-df-quickchart {\n",
              "    background-color: var(--bg-color);\n",
              "    border: none;\n",
              "    border-radius: 50%;\n",
              "    cursor: pointer;\n",
              "    display: none;\n",
              "    fill: var(--fill-color);\n",
              "    height: 32px;\n",
              "    padding: 0;\n",
              "    width: 32px;\n",
              "  }\n",
              "\n",
              "  .colab-df-quickchart:hover {\n",
              "    background-color: var(--hover-bg-color);\n",
              "    box-shadow: 0 1px 2px rgba(60, 64, 67, 0.3), 0 1px 3px 1px rgba(60, 64, 67, 0.15);\n",
              "    fill: var(--button-hover-fill-color);\n",
              "  }\n",
              "\n",
              "  .colab-df-quickchart-complete:disabled,\n",
              "  .colab-df-quickchart-complete:disabled:hover {\n",
              "    background-color: var(--disabled-bg-color);\n",
              "    fill: var(--disabled-fill-color);\n",
              "    box-shadow: none;\n",
              "  }\n",
              "\n",
              "  .colab-df-spinner {\n",
              "    border: 2px solid var(--fill-color);\n",
              "    border-color: transparent;\n",
              "    border-bottom-color: var(--fill-color);\n",
              "    animation:\n",
              "      spin 1s steps(1) infinite;\n",
              "  }\n",
              "\n",
              "  @keyframes spin {\n",
              "    0% {\n",
              "      border-color: transparent;\n",
              "      border-bottom-color: var(--fill-color);\n",
              "      border-left-color: var(--fill-color);\n",
              "    }\n",
              "    20% {\n",
              "      border-color: transparent;\n",
              "      border-left-color: var(--fill-color);\n",
              "      border-top-color: var(--fill-color);\n",
              "    }\n",
              "    30% {\n",
              "      border-color: transparent;\n",
              "      border-left-color: var(--fill-color);\n",
              "      border-top-color: var(--fill-color);\n",
              "      border-right-color: var(--fill-color);\n",
              "    }\n",
              "    40% {\n",
              "      border-color: transparent;\n",
              "      border-right-color: var(--fill-color);\n",
              "      border-top-color: var(--fill-color);\n",
              "    }\n",
              "    60% {\n",
              "      border-color: transparent;\n",
              "      border-right-color: var(--fill-color);\n",
              "    }\n",
              "    80% {\n",
              "      border-color: transparent;\n",
              "      border-right-color: var(--fill-color);\n",
              "      border-bottom-color: var(--fill-color);\n",
              "    }\n",
              "    90% {\n",
              "      border-color: transparent;\n",
              "      border-bottom-color: var(--fill-color);\n",
              "    }\n",
              "  }\n",
              "</style>\n",
              "\n",
              "  <script>\n",
              "    async function quickchart(key) {\n",
              "      const quickchartButtonEl =\n",
              "        document.querySelector('#' + key + ' button');\n",
              "      quickchartButtonEl.disabled = true;  // To prevent multiple clicks.\n",
              "      quickchartButtonEl.classList.add('colab-df-spinner');\n",
              "      try {\n",
              "        const charts = await google.colab.kernel.invokeFunction(\n",
              "            'suggestCharts', [key], {});\n",
              "      } catch (error) {\n",
              "        console.error('Error during call to suggestCharts:', error);\n",
              "      }\n",
              "      quickchartButtonEl.classList.remove('colab-df-spinner');\n",
              "      quickchartButtonEl.classList.add('colab-df-quickchart-complete');\n",
              "    }\n",
              "    (() => {\n",
              "      let quickchartButtonEl =\n",
              "        document.querySelector('#df-c3bed88b-b164-4726-bb31-ae3fd4cbdac3 button');\n",
              "      quickchartButtonEl.style.display =\n",
              "        google.colab.kernel.accessAllowed ? 'block' : 'none';\n",
              "    })();\n",
              "  </script>\n",
              "</div>\n",
              "\n",
              "    </div>\n",
              "  </div>\n"
            ],
            "application/vnd.google.colaboratory.intrinsic+json": {
              "type": "dataframe",
              "variable_name": "orig_df"
            }
          },
          "metadata": {},
          "execution_count": 3
        }
      ]
    },
    {
      "cell_type": "code",
      "source": [
        "#3.\tUse the TFIDF function provided by sklearn to represent the movies using the overview field\n",
        "\n",
        "#Define a TF-IDF Vectorizer Object. Remove all english stopwords\n",
        "tfidf = TfidfVectorizer()\n",
        "\n",
        "#Replace NaN with an empty string\n",
        "df['overview'] = df['overview'].fillna('')\n",
        "\n",
        "#Construct the required TF-IDF matrix by applying the fit_transform method on the overview feature\n",
        "tfidf_matrix = tfidf.fit_transform(df['overview'])\n",
        "#tfidf_matrix = tfidf.fit_transform(corpus)\n",
        "\n",
        "#Output the shape of tfidf_matrix\n",
        "tfidf_matrix.shape\n"
      ],
      "metadata": {
        "colab": {
          "base_uri": "https://localhost:8080/"
        },
        "id": "AMEYrL2DVnfW",
        "outputId": "5b06826c-3caf-484e-80f4-b33b5df9c3a0",
        "execution": {
          "iopub.status.busy": "2024-10-28T19:37:54.397209Z",
          "iopub.execute_input": "2024-10-28T19:37:54.397743Z",
          "iopub.status.idle": "2024-10-28T19:37:57.173878Z",
          "shell.execute_reply.started": "2024-10-28T19:37:54.397682Z",
          "shell.execute_reply": "2024-10-28T19:37:57.172752Z"
        },
        "trusted": true
      },
      "execution_count": 4,
      "outputs": [
        {
          "output_type": "execute_result",
          "data": {
            "text/plain": [
              "(45466, 76132)"
            ]
          },
          "metadata": {},
          "execution_count": 4
        }
      ]
    },
    {
      "cell_type": "code",
      "source": [
        "#4.\tCompute the cosine similarity\n",
        "\n",
        "# The slicing is due to the lack of enough memory. Only use it if your machine crashed as a result of using the entire matrix\n",
        "tfidf_matrix = tfidf_matrix[:1000]\n",
        "# Compute the cosine similarity matrix\n",
        "cosine_sim = cosine_similarity(tfidf_matrix, tfidf_matrix)\n",
        "\n"
      ],
      "metadata": {
        "id": "vgB0_v2nVu-w",
        "execution": {
          "iopub.status.busy": "2024-10-28T19:37:58.176067Z",
          "iopub.execute_input": "2024-10-28T19:37:58.176532Z",
          "iopub.status.idle": "2024-10-28T19:37:58.260053Z",
          "shell.execute_reply.started": "2024-10-28T19:37:58.176487Z",
          "shell.execute_reply": "2024-10-28T19:37:58.258894Z"
        },
        "trusted": true
      },
      "execution_count": 5,
      "outputs": []
    },
    {
      "cell_type": "code",
      "source": [
        "#5.\tBase the recommendation on the movie titles by mapping them to indices\n",
        "\n",
        "#Construct a reverse mapping of indices and movie titles, and drop duplicate titles, if any\n",
        "indices = pd.Series(df.index, index=df['title']).drop_duplicates()\n",
        "indices.head()\n"
      ],
      "metadata": {
        "colab": {
          "base_uri": "https://localhost:8080/",
          "height": 272
        },
        "id": "OaN25JZbV3P0",
        "outputId": "77a4d172-ec92-49c1-a6eb-2ed224d6f3b8",
        "execution": {
          "iopub.status.busy": "2024-10-28T19:37:59.363974Z",
          "iopub.execute_input": "2024-10-28T19:37:59.364434Z",
          "iopub.status.idle": "2024-10-28T19:37:59.381800Z",
          "shell.execute_reply.started": "2024-10-28T19:37:59.364388Z",
          "shell.execute_reply": "2024-10-28T19:37:59.380569Z"
        },
        "trusted": true
      },
      "execution_count": 6,
      "outputs": [
        {
          "output_type": "execute_result",
          "data": {
            "text/plain": [
              "title\n",
              "Toy Story                      0\n",
              "Jumanji                        1\n",
              "Grumpier Old Men               2\n",
              "Waiting to Exhale              3\n",
              "Father of the Bride Part II    4\n",
              "dtype: int64"
            ],
            "text/html": [
              "<div>\n",
              "<style scoped>\n",
              "    .dataframe tbody tr th:only-of-type {\n",
              "        vertical-align: middle;\n",
              "    }\n",
              "\n",
              "    .dataframe tbody tr th {\n",
              "        vertical-align: top;\n",
              "    }\n",
              "\n",
              "    .dataframe thead th {\n",
              "        text-align: right;\n",
              "    }\n",
              "</style>\n",
              "<table border=\"1\" class=\"dataframe\">\n",
              "  <thead>\n",
              "    <tr style=\"text-align: right;\">\n",
              "      <th></th>\n",
              "      <th>0</th>\n",
              "    </tr>\n",
              "    <tr>\n",
              "      <th>title</th>\n",
              "      <th></th>\n",
              "    </tr>\n",
              "  </thead>\n",
              "  <tbody>\n",
              "    <tr>\n",
              "      <th>Toy Story</th>\n",
              "      <td>0</td>\n",
              "    </tr>\n",
              "    <tr>\n",
              "      <th>Jumanji</th>\n",
              "      <td>1</td>\n",
              "    </tr>\n",
              "    <tr>\n",
              "      <th>Grumpier Old Men</th>\n",
              "      <td>2</td>\n",
              "    </tr>\n",
              "    <tr>\n",
              "      <th>Waiting to Exhale</th>\n",
              "      <td>3</td>\n",
              "    </tr>\n",
              "    <tr>\n",
              "      <th>Father of the Bride Part II</th>\n",
              "      <td>4</td>\n",
              "    </tr>\n",
              "  </tbody>\n",
              "</table>\n",
              "</div><br><label><b>dtype:</b> int64</label>"
            ]
          },
          "metadata": {},
          "execution_count": 6
        }
      ]
    },
    {
      "cell_type": "code",
      "source": [
        "#6.\tWrite the recommendation function\n",
        "\n",
        "# Function that takes in movie title as input and gives recommendations\n",
        "def content_recommender(title, cosine_sim=cosine_sim, df=df, indices=indices):\n",
        "    # Obtain the index of the movie that matches the title\n",
        "    idx = indices[title]\n",
        "\n",
        "    # Get the pairwsie similarity scores of all movies with that movie\n",
        "    # And convert it into a list of tuples as described above\n",
        "    sim_scores = list(enumerate(cosine_sim[idx]))\n",
        "\n",
        "    # Sort the movies based on the cosine similarity scores\n",
        "    sim_scores = sorted(sim_scores, key=lambda x: x[1], reverse=True)\n",
        "\n",
        "    # Get the scores of the 10 most similar movies. Ignore the first movie.\n",
        "    sim_scores = sim_scores[1:11]\n",
        "\n",
        "    # Get the movie indices\n",
        "    movie_indices = [i[0] for i in sim_scores]\n",
        "\n",
        "    # Return the top 10 most similar movies\n",
        "    return df['title'].iloc[movie_indices]\n"
      ],
      "metadata": {
        "id": "mSI62AwQWHJ-",
        "execution": {
          "iopub.status.busy": "2024-10-28T19:38:02.086769Z",
          "iopub.execute_input": "2024-10-28T19:38:02.087201Z",
          "iopub.status.idle": "2024-10-28T19:38:02.095984Z",
          "shell.execute_reply.started": "2024-10-28T19:38:02.087163Z",
          "shell.execute_reply": "2024-10-28T19:38:02.094057Z"
        },
        "trusted": true
      },
      "execution_count": 7,
      "outputs": []
    },
    {
      "cell_type": "code",
      "source": [
        "#7.\tRecommend a movie based on a given title\n",
        "\n",
        "print(content_recommender('The Lion King'))\n"
      ],
      "metadata": {
        "colab": {
          "base_uri": "https://localhost:8080/"
        },
        "id": "D8Msb_YVWNnX",
        "outputId": "4ba0b06e-5a3b-43a4-c5e9-e04a497cf70b",
        "execution": {
          "iopub.status.busy": "2024-10-28T19:38:03.126372Z",
          "iopub.execute_input": "2024-10-28T19:38:03.126853Z",
          "iopub.status.idle": "2024-10-28T19:38:03.148021Z",
          "shell.execute_reply.started": "2024-10-28T19:38:03.126808Z",
          "shell.execute_reply": "2024-10-28T19:38:03.146559Z"
        },
        "trusted": true
      },
      "execution_count": 8,
      "outputs": [
        {
          "output_type": "stream",
          "name": "stdout",
          "text": [
            "42                    Restoration\n",
            "600                         Fargo\n",
            "892              The Wizard of Oz\n",
            "89     The Journey of August King\n",
            "643                   DragonHeart\n",
            "572                    The Escort\n",
            "110           Rumble in the Bronx\n",
            "185                  The Prophecy\n",
            "405          Addams Family Values\n",
            "55        Kids of the Round Table\n",
            "Name: title, dtype: object\n"
          ]
        }
      ]
    },
    {
      "cell_type": "markdown",
      "source": [
        "### Part 2"
      ],
      "metadata": {
        "id": "5_-MpJWwWdNr"
      }
    },
    {
      "cell_type": "code",
      "source": [
        "import numpy as np\n",
        "from nltk.tokenize import word_tokenize\n",
        "from collections import Counter\n",
        "import math\n",
        "import re\n",
        "import pandas as pd\n",
        "import nltk\n",
        "nltk.download('punkt')"
      ],
      "metadata": {
        "colab": {
          "base_uri": "https://localhost:8080/"
        },
        "id": "heFZhrl8WTSH",
        "outputId": "248b6dcd-3f3d-44d5-de5c-b0f45f8e6e59",
        "execution": {
          "iopub.status.busy": "2024-10-28T19:38:05.639419Z",
          "iopub.execute_input": "2024-10-28T19:38:05.639923Z",
          "iopub.status.idle": "2024-10-28T19:38:05.862838Z",
          "shell.execute_reply.started": "2024-10-28T19:38:05.639872Z",
          "shell.execute_reply": "2024-10-28T19:38:05.861434Z"
        },
        "trusted": true
      },
      "execution_count": 9,
      "outputs": [
        {
          "output_type": "stream",
          "name": "stderr",
          "text": [
            "[nltk_data] Downloading package punkt to /root/nltk_data...\n",
            "[nltk_data]   Unzipping tokenizers/punkt.zip.\n"
          ]
        },
        {
          "output_type": "execute_result",
          "data": {
            "text/plain": [
              "True"
            ]
          },
          "metadata": {},
          "execution_count": 9
        }
      ]
    },
    {
      "cell_type": "code",
      "source": [
        "all_documents = ['Topic sentences are similar to mini thesis statements. Like a thesis statement',\n",
        " 'a topic sentence has a specific main point. Whereas the thesis is the main point of the essay, the topic sentence is the main point of the paragraph. Like the thesis statement, a topic sentence has a unifying function. But a thesis statement or topic sentence alone doesn’t guarantee unity.',\n",
        " 'An essay is unified if all the paragraphs relate to the thesis, whereas a paragraph is unified if all the sentences relate to the topic sentence.',\n",
        " 'A thesis on Roger Federer the greated tennis player should be made',\n",
        " 'Nadal is also a great and he deserves a thesis in tennis']\n"
      ],
      "metadata": {
        "id": "e8Zg08nnWrHP",
        "execution": {
          "iopub.status.busy": "2024-10-28T19:38:06.761976Z",
          "iopub.execute_input": "2024-10-28T19:38:06.762428Z",
          "iopub.status.idle": "2024-10-28T19:38:06.769263Z",
          "shell.execute_reply.started": "2024-10-28T19:38:06.762388Z",
          "shell.execute_reply": "2024-10-28T19:38:06.767798Z"
        },
        "trusted": true
      },
      "execution_count": 10,
      "outputs": []
    },
    {
      "cell_type": "markdown",
      "source": [
        " 2.\t[2.5 mark] Represent the documents contained in the all_documents list using TFIDF. Use You are not allowed to use any library and you should build your TFIDF function from scratch. Use the following link to help you build your TFIDF representation"
      ],
      "metadata": {
        "id": "6ElXUBCaXR8L"
      }
    },
    {
      "cell_type": "code",
      "source": [
        "# TF function\n",
        "# Calculate Term Frequency (TF)\n",
        "def compute_tf(document):\n",
        "    words = word_tokenize(document.lower())\n",
        "    word_count = Counter(words)\n",
        "    doc_len = len(words)\n",
        "    tf = {word: count / doc_len for word, count in word_count.items()}\n",
        "    return tf"
      ],
      "metadata": {
        "id": "aEiYWj0xWv04",
        "execution": {
          "iopub.status.busy": "2024-10-28T19:38:09.114041Z",
          "iopub.execute_input": "2024-10-28T19:38:09.114519Z",
          "iopub.status.idle": "2024-10-28T19:38:09.121341Z",
          "shell.execute_reply.started": "2024-10-28T19:38:09.114474Z",
          "shell.execute_reply": "2024-10-28T19:38:09.119805Z"
        },
        "trusted": true
      },
      "execution_count": 11,
      "outputs": []
    },
    {
      "cell_type": "code",
      "source": [
        "#IDF function\n",
        "# Calculate Inverse Document Frequency (IDF)\n",
        "def compute_idf(documents):\n",
        "    N = len(documents)\n",
        "    idf = {}\n",
        "    all_words = set(word for doc in documents for word in word_tokenize(doc.lower()))\n",
        "    for word in all_words:\n",
        "        contains_word = sum(1 for doc in documents if word in word_tokenize(doc.lower()))\n",
        "        idf[word] = math.log(N / (1 + contains_word))\n",
        "    return idf"
      ],
      "metadata": {
        "id": "F6IssgIQW46J",
        "execution": {
          "iopub.status.busy": "2024-10-28T19:38:10.122315Z",
          "iopub.execute_input": "2024-10-28T19:38:10.122803Z",
          "iopub.status.idle": "2024-10-28T19:38:10.130258Z",
          "shell.execute_reply.started": "2024-10-28T19:38:10.122755Z",
          "shell.execute_reply": "2024-10-28T19:38:10.128803Z"
        },
        "trusted": true
      },
      "execution_count": 12,
      "outputs": []
    },
    {
      "cell_type": "code",
      "source": [
        "# TF-IDF function\n",
        "# Calculate TF-IDF for all documents\n",
        "def compute_tfidf(documents):\n",
        "    idf = compute_idf(documents)\n",
        "    tfidf = []\n",
        "    for doc in documents:\n",
        "        tf = compute_tf(doc)\n",
        "        tfidf_doc = {word: tf[word] * idf[word] for word in tf}\n",
        "        tfidf.append(tfidf_doc)\n",
        "    return tfidf\n",
        "\n",
        "# Compute TF-IDF for the sample documents\n",
        "tfidf_custom = compute_tfidf(all_documents)"
      ],
      "metadata": {
        "id": "3uU1vQ4GW9yd",
        "execution": {
          "iopub.status.busy": "2024-10-28T19:38:11.719610Z",
          "iopub.execute_input": "2024-10-28T19:38:11.720661Z",
          "iopub.status.idle": "2024-10-28T19:38:11.812745Z",
          "shell.execute_reply.started": "2024-10-28T19:38:11.720604Z",
          "shell.execute_reply": "2024-10-28T19:38:11.811024Z"
        },
        "trusted": true
      },
      "execution_count": 13,
      "outputs": []
    },
    {
      "cell_type": "markdown",
      "source": [
        "3.\t[1 marks] Apply the cosine similarity using sklearn. Use the normal cosine similarity model that is computed using the below formula (Hint: you can use the Compressed Sparse Row matrix function sparse.csr_matrix() to convert the list representing your TFIDF into csr_matrix)\n",
        " ![image.png](data:image/png;base64,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)"
      ],
      "metadata": {
        "id": "4lC0ZwvuXZfo"
      }
    },
    {
      "cell_type": "code",
      "source": [
        "from scipy.sparse import csr_matrix\n",
        "from sklearn.metrics.pairwise import cosine_similarity\n",
        "\n",
        "# Convert custom TF-IDF to a sparse matrix for cosine similarity calculation\n",
        "vocab = list({word for doc in tfidf_custom for word in doc})\n",
        "tfidf_vectors = []\n",
        "for doc in tfidf_custom:\n",
        "    tfidf_vectors.append([doc.get(word, 0) for word in vocab])\n",
        "\n",
        "tfidf_matrix_custom = csr_matrix(tfidf_vectors)\n",
        "cosine_sim_custom = cosine_similarity(tfidf_matrix_custom)\n"
      ],
      "metadata": {
        "id": "HBslmx2qXD_5",
        "execution": {
          "iopub.status.busy": "2024-10-28T19:38:13.553958Z",
          "iopub.execute_input": "2024-10-28T19:38:13.554419Z",
          "iopub.status.idle": "2024-10-28T19:38:13.563794Z",
          "shell.execute_reply.started": "2024-10-28T19:38:13.554375Z",
          "shell.execute_reply": "2024-10-28T19:38:13.562460Z"
        },
        "trusted": true
      },
      "execution_count": 14,
      "outputs": []
    },
    {
      "cell_type": "markdown",
      "source": [
        "4.\t[1.5 mark] Modify the conten_recommender function of Part-1 or use your own function to recommend a document to a user who likes the document that says:\n",
        "’A thesis on Roger Federer the greated tennis player should be made’\n"
      ],
      "metadata": {
        "id": "5YdxMaP_XriX"
      }
    },
    {
      "cell_type": "code",
      "source": [
        "def content_recommender_custom(target_text, cosine_sim=cosine_sim_custom, documents=all_documents, tfidf_custom=tfidf_custom, vocab=vocab):\n",
        "    \"\"\"Recommends documents similar to the target text.\n",
        "\n",
        "    Args:\n",
        "        target_text (str): The text to find similar documents for.\n",
        "        cosine_sim (array-like, optional): Cosine similarity matrix. Defaults to cosine_sim_custom.\n",
        "        documents (list, optional): List of documents. Defaults to all_documents.\n",
        "        tfidf_custom (list, optional): TF-IDF representation of documents. Defaults to tfidf_custom.\n",
        "        vocab (list, optional): Vocabulary of the documents. Defaults to vocab.\n",
        "\n",
        "    Returns:\n",
        "        list: List of similar documents.\n",
        "    \"\"\"\n",
        "    # Calculate TF-IDF for the target text\n",
        "    target_tfidf = compute_tf(target_text)\n",
        "    target_tfidf_vector = [target_tfidf.get(word, 0) for word in vocab]\n",
        "\n",
        "    # Calculate cosine similarity between target text and documents\n",
        "    target_tfidf_matrix = csr_matrix([target_tfidf_vector])\n",
        "    sim_scores = cosine_similarity(target_tfidf_matrix, tfidf_matrix_custom)[0]\n",
        "\n",
        "    # Get indices of most similar documents\n",
        "    sim_scores_sorted = sorted(enumerate(sim_scores), key=lambda x: x[1], reverse=True)\n",
        "    top_indices = [i[0] for i in sim_scores_sorted[1:6]]  # Exclude the target text itself\n",
        "\n",
        "    # Return most similar documents\n",
        "    return [documents[i] for i in top_indices]\n"
      ],
      "metadata": {
        "id": "67_Kz2LaXk5e",
        "execution": {
          "iopub.status.busy": "2024-10-28T19:38:15.920052Z",
          "iopub.execute_input": "2024-10-28T19:38:15.921018Z",
          "iopub.status.idle": "2024-10-28T19:38:15.929872Z",
          "shell.execute_reply.started": "2024-10-28T19:38:15.920951Z",
          "shell.execute_reply": "2024-10-28T19:38:15.928342Z"
        },
        "trusted": true
      },
      "execution_count": 15,
      "outputs": []
    },
    {
      "cell_type": "code",
      "source": [
        "# Test the custom recommender\n",
        "print(content_recommender_custom('A thesis on Roger Federer the greatest tennis player should be made'))"
      ],
      "metadata": {
        "colab": {
          "base_uri": "https://localhost:8080/"
        },
        "id": "dQAyQ9l0Xuc8",
        "outputId": "af71dbdb-c574-42bc-f969-e21345a88d97",
        "execution": {
          "iopub.status.busy": "2024-10-28T19:38:17.039788Z",
          "iopub.execute_input": "2024-10-28T19:38:17.040218Z",
          "iopub.status.idle": "2024-10-28T19:38:17.048619Z",
          "shell.execute_reply.started": "2024-10-28T19:38:17.040181Z",
          "shell.execute_reply": "2024-10-28T19:38:17.047436Z"
        },
        "trusted": true
      },
      "execution_count": 16,
      "outputs": [
        {
          "output_type": "stream",
          "name": "stdout",
          "text": [
            "['An essay is unified if all the paragraphs relate to the thesis, whereas a paragraph is unified if all the sentences relate to the topic sentence.', 'a topic sentence has a specific main point. Whereas the thesis is the main point of the essay, the topic sentence is the main point of the paragraph. Like the thesis statement, a topic sentence has a unifying function. But a thesis statement or topic sentence alone doesn’t guarantee unity.', 'Nadal is also a great and he deserves a thesis in tennis', 'Topic sentences are similar to mini thesis statements. Like a thesis statement']\n"
          ]
        }
      ]
    },
    {
      "cell_type": "markdown",
      "source": [
        "### Part 3"
      ],
      "metadata": {
        "id": "bTED2mxNYQW3"
      }
    },
    {
      "cell_type": "code",
      "source": [
        "import pandas as pd\n",
        "\n",
        "# Load both datasets\n",
        "df = pd.read_csv('/content/ccai422_lab05_part1_1_data.csv')\n",
        "orig_df = pd.read_csv('/content/ccai422_lab05_part1_2_data.csv', low_memory=False)\n",
        "\n",
        "# Merge the 'overview' column from orig_df to df\n",
        "df['overview'] = orig_df['overview'].fillna('')  # Replace NaN with empty strings to avoid errors\n",
        "df['id'] = orig_df['id']"
      ],
      "metadata": {
        "id": "RK3nmmXeYLuL",
        "execution": {
          "iopub.status.busy": "2024-10-28T19:38:20.025611Z",
          "iopub.execute_input": "2024-10-28T19:38:20.026093Z",
          "iopub.status.idle": "2024-10-28T19:38:20.996091Z",
          "shell.execute_reply.started": "2024-10-28T19:38:20.026054Z",
          "shell.execute_reply": "2024-10-28T19:38:20.994546Z"
        },
        "trusted": true
      },
      "execution_count": 18,
      "outputs": []
    },
    {
      "cell_type": "markdown",
      "source": [
        "1.\t[1.5 marks] Modify your TFIDF implementation to compute the term frequency based on the row frequency instead of the relative row frequency (i.e. do not consider the number of words per document)"
      ],
      "metadata": {
        "id": "jkT9TeYx9yuw"
      }
    },
    {
      "cell_type": "code",
      "source": [
        "# Function to compute term frequency (TF) using raw count\n",
        "def compute_tf(doc):\n",
        "    words = word_tokenize(doc.lower())\n",
        "    return Counter(words)  # Absolute frequency for each word in the document\n",
        "\n",
        "# Function to compute inverse document frequency (IDF)\n",
        "def compute_idf_optimized(documents):\n",
        "    N = len(documents)\n",
        "    df_dict = defaultdict(int)\n",
        "\n",
        "    for doc in documents:\n",
        "        unique_words = set(word_tokenize(doc.lower()))  # Count each unique word per document\n",
        "        for word in unique_words:\n",
        "            df_dict[word] += 1\n",
        "\n",
        "    # Calculate IDF for each word\n",
        "    idf_dict = {word: math.log(N / (1 + df_count)) for word, df_count in df_dict.items()}\n",
        "    return idf_dict\n",
        "\n",
        "# Function to compute TF-IDF\n",
        "def compute_tfidf(tf, idf):\n",
        "    return {word: tf[word] * idf.get(word, 0) for word in tf}  # Use IDF to scale each term frequency\n"
      ],
      "metadata": {
        "id": "zQm7Ltw-8xmT"
      },
      "execution_count": 28,
      "outputs": []
    },
    {
      "cell_type": "markdown",
      "source": [
        "[Step 3: Apply Custom TF, IDF, and TF-IDF on the Dataset]"
      ],
      "metadata": {
        "id": "5-itTEfn92-O"
      }
    },
    {
      "cell_type": "code",
      "source": [
        "# Prepare dataset of movie overviews\n",
        "movie_overviews = df['overview'].tolist()\n",
        "\n",
        "# Calculate IDF for the entire corpus\n",
        "idf = compute_idf_optimized(movie_overviews)\n",
        "\n",
        "# Calculate TF and TF-IDF for each document\n",
        "tfidf_documents = []\n",
        "for doc in movie_overviews:\n",
        "    tf = compute_tf(doc)\n",
        "    tfidf = compute_tfidf(tf, idf)\n",
        "    tfidf_documents.append(tfidf)\n"
      ],
      "metadata": {
        "id": "0O28RPBw80rG"
      },
      "execution_count": 29,
      "outputs": []
    },
    {
      "cell_type": "markdown",
      "source": [
        "Step 4: Convert TF-IDF Dictionary to Matrix and Compute Cosine Similarity\n"
      ],
      "metadata": {
        "id": "0enp_INv99bP"
      }
    },
    {
      "cell_type": "code",
      "source": [
        "from scipy.sparse import lil_matrix\n",
        "\n",
        "# Generate a consistent vocabulary from TF-IDF dictionaries\n",
        "vocab_movies = list({word for doc in tfidf_documents for word in doc})\n",
        "\n",
        "# Mapping each word to its index in the vocabulary\n",
        "vocab_index = {word: idx for idx, word in enumerate(vocab_movies)}\n",
        "\n",
        "# Initialize a sparse matrix in LIL format for row-wise assignment\n",
        "tfidf_matrix_sparse = lil_matrix((len(tfidf_documents), len(vocab_movies)))\n",
        "\n",
        "# Populate the sparse matrix with TF-IDF values\n",
        "for i, doc in enumerate(tfidf_documents):\n",
        "    for word, tfidf_value in doc.items():\n",
        "        if word in vocab_index:\n",
        "            word_idx = vocab_index[word]\n",
        "            tfidf_matrix_sparse[i, word_idx] = tfidf_value\n",
        "\n",
        "# Convert to CSR format for efficient computations\n",
        "tfidf_matrix = tfidf_matrix_sparse.tocsr()\n",
        "\n",
        "# Compute cosine similarity on the CSR matrix\n",
        "cosine_sim_movies = cosine_similarity(tfidf_matrix)\n"
      ],
      "metadata": {
        "id": "ULKxoYGp80tv"
      },
      "execution_count": 30,
      "outputs": []
    },
    {
      "cell_type": "markdown",
      "source": [
        "Step 5: Define a Recommendation Function Based on Custom TF-IDF and Cosine Similarity"
      ],
      "metadata": {
        "id": "NPCQ9_Ju-CFg"
      }
    },
    {
      "cell_type": "code",
      "source": [
        "# Create a reverse mapping of movie titles to indices\n",
        "df['title'] = df['title'].str.lower()  # Ensure lowercase for matching\n",
        "indices = pd.Series(df.index, index=df['title']).drop_duplicates()\n",
        "\n",
        "# Define a recommendation function\n",
        "def recommend_movie(title, cosine_sim=cosine_sim_movies, df=df, indices=indices):\n",
        "    title = title.lower()  # Standardize to lowercase\n",
        "    if title not in indices:\n",
        "        return f\"The title '{title}' is not found in the dataset.\"\n",
        "\n",
        "    # Get index of the movie\n",
        "    idx = indices[title]\n",
        "\n",
        "    # Get similarity scores for this movie and sort them\n",
        "    sim_scores = list(enumerate(cosine_sim[idx]))\n",
        "    sim_scores = sorted(sim_scores, key=lambda x: x[1], reverse=True)[1:11]  # Exclude the movie itself\n",
        "\n",
        "    # Retrieve top 10 most similar movies\n",
        "    movie_indices = [i[0] for i in sim_scores]\n",
        "    return df['title'].iloc[movie_indices]\n",
        "\n",
        "# Test the recommendation function for 'The Lion King'\n",
        "print(\"Top 10 recommendations for 'The Lion King':\")\n",
        "print(recommend_movie('The Lion King'))\n"
      ],
      "metadata": {
        "colab": {
          "base_uri": "https://localhost:8080/"
        },
        "id": "3PVsNj5586-_",
        "outputId": "83c01f78-9684-408a-97c3-50e19a3a131b"
      },
      "execution_count": 31,
      "outputs": [
        {
          "output_type": "stream",
          "name": "stdout",
          "text": [
            "Top 10 recommendations for 'The Lion King':\n",
            "34682    how the lion cub and the turtle sang a song\n",
            "9115                  the lion king 2: simba's pride\n",
            "9353                                the lion king 1½\n",
            "13079                                     crows zero\n",
            "27933              massaï, les guerriers de la pluie\n",
            "42829                                           prey\n",
            "17041                                   african cats\n",
            "25654                                 fearless fagan\n",
            "7658                                the razor's edge\n",
            "31208                                     white lion\n",
            "Name: title, dtype: object\n"
          ]
        }
      ]
    },
    {
      "cell_type": "markdown",
      "source": [
        "Step 6: Compare Results with Part 1"
      ],
      "metadata": {
        "id": "ViDaMhck-H-V"
      }
    },
    {
      "cell_type": "code",
      "source": [
        "# Part 1 Recommendation function using library-based TF-IDF\n",
        "print(\"Part 1 Recommendations for 'The Lion King' (Library-based TF-IDF):\")\n",
        "print(content_recommender('The Lion King'))\n",
        "\n",
        "# Part 3 Recommendations\n",
        "print(\"\\nPart 3 Recommendations for 'The Lion King' (Custom TF-IDF with Row Frequency):\")\n",
        "print(recommend_movie('The Lion King'))\n"
      ],
      "metadata": {
        "colab": {
          "base_uri": "https://localhost:8080/"
        },
        "id": "fwHQ0Cbp80xG",
        "outputId": "1adee9fc-84d6-4423-8c0e-a4e76ceb381d"
      },
      "execution_count": 32,
      "outputs": [
        {
          "output_type": "stream",
          "name": "stdout",
          "text": [
            "Part 1 Recommendations for 'The Lion King' (Library-based TF-IDF):\n",
            "42                    Restoration\n",
            "600                         Fargo\n",
            "892              The Wizard of Oz\n",
            "89     The Journey of August King\n",
            "643                   DragonHeart\n",
            "572                    The Escort\n",
            "110           Rumble in the Bronx\n",
            "185                  The Prophecy\n",
            "405          Addams Family Values\n",
            "55        Kids of the Round Table\n",
            "Name: title, dtype: object\n",
            "\n",
            "Part 3 Recommendations for 'The Lion King' (Custom TF-IDF with Row Frequency):\n",
            "34682    how the lion cub and the turtle sang a song\n",
            "9115                  the lion king 2: simba's pride\n",
            "9353                                the lion king 1½\n",
            "13079                                     crows zero\n",
            "27933              massaï, les guerriers de la pluie\n",
            "42829                                           prey\n",
            "17041                                   african cats\n",
            "25654                                 fearless fagan\n",
            "7658                                the razor's edge\n",
            "31208                                     white lion\n",
            "Name: title, dtype: object\n"
          ]
        }
      ]
    },
    {
      "cell_type": "markdown",
      "source": [
        "# The End\n",
        "      .-\"\"\"\"-.\n",
        "     / -    - \\\n",
        "    |  O    O  |\n",
        "    |     >    |\n",
        "     \\  \\__/  /\n",
        "      `-.....-`\n",
        "                /\n",
        "        /|\\\\   /\n",
        "        / | \\\\/\n",
        "          |\n",
        "        / \\\\\n",
        "        /   \\\n"
      ],
      "metadata": {
        "id": "aPxRCj5p6M3v"
      }
    }
  ]
}