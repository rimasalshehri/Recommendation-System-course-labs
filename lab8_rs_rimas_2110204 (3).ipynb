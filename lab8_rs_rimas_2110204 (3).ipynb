{
  "nbformat": 4,
  "nbformat_minor": 0,
  "metadata": {
    "colab": {
      "provenance": []
    },
    "kernelspec": {
      "name": "python3",
      "display_name": "Python 3"
    },
    "language_info": {
      "name": "python"
    }
  },
  "cells": [
    {
      "cell_type": "markdown",
      "source": [
        "#Clustering-Based Recommender Systems\n",
        "##Part 1"
      ],
      "metadata": {
        "id": "Z5wKipgew7QY"
      }
    },
    {
      "cell_type": "code",
      "execution_count": 2,
      "metadata": {
        "id": "6pI_hAHmqJco"
      },
      "outputs": [],
      "source": [
        "#1.Let’s install and import the required libraries.\n",
        "#Importing the libraries\n",
        "import pandas as pd\n",
        "import numpy as np\n",
        "from matplotlib import pyplot as plt\n",
        "from scipy.cluster.hierarchy import dendrogram\n",
        "from sklearn.cluster import AgglomerativeClustering\n",
        "from sklearn.cluster import KMeans\n",
        "import seaborn as sns\n",
        "import os\n",
        "from sklearn import preprocessing"
      ]
    },
    {
      "cell_type": "code",
      "source": [
        "#2.Let’s install and import the required libraries.\n",
        "# read Record dataset\n",
        "df_order = pd.read_excel('/content/Rec_sys_data (1).xlsx')\n",
        "#read Customer Dataset\n",
        "df_customer = pd.read_excel('/content/Rec_sys_data (1).xlsx',\n",
        " sheet_name = 'customer')\n",
        "# read product dataset\n",
        "df_product = pd.read_excel('/content/Rec_sys_data (1).xlsx',\n",
        " sheet_name = 'product')\n"
      ],
      "metadata": {
        "id": "Jz-CwjtttMLw"
      },
      "execution_count": 4,
      "outputs": []
    },
    {
      "cell_type": "code",
      "source": [
        "#3.Print the top five rows of the DataFrame.\n",
        "#Viewing Top 5 Rows\n",
        "print(df_order.head())\n",
        "print(df_customer.head())\n",
        "print(df_product.head())\n"
      ],
      "metadata": {
        "colab": {
          "base_uri": "https://localhost:8080/"
        },
        "id": "bLtaziSFtl4l",
        "outputId": "0837cc71-e731-4fa5-d310-1ed46289738e"
      },
      "execution_count": 5,
      "outputs": [
        {
          "output_type": "stream",
          "name": "stdout",
          "text": [
            "   InvoiceNo StockCode  Quantity         InvoiceDate        DeliveryDate  \\\n",
            "0     536365    84029E         6 2010-12-01 08:26:00 2010-12-02 08:26:00   \n",
            "1     536365     71053         6 2010-12-01 08:26:00 2010-12-02 08:26:00   \n",
            "2     536365     21730         6 2010-12-01 08:26:00 2010-12-03 08:26:00   \n",
            "3     536365    84406B         8 2010-12-01 08:26:00 2010-12-03 08:26:00   \n",
            "4     536365     22752         2 2010-12-01 08:26:00 2010-12-04 08:26:00   \n",
            "\n",
            "   Discount%        ShipMode  ShippingCost  CustomerID  \n",
            "0       0.20      ExpressAir         30.12       17850  \n",
            "1       0.21      ExpressAir         30.12       17850  \n",
            "2       0.56     Regular Air         15.22       17850  \n",
            "3       0.30     Regular Air         15.22       17850  \n",
            "4       0.57  Delivery Truck          5.81       17850  \n",
            "   CustomerID  Gender  Age  Income  Zipcode Customer Segment\n",
            "0       13089    male   53    High     8625   Small Business\n",
            "1       15810  female   22     Low    87797   Small Business\n",
            "2       15556  female   29    High    29257        Corporate\n",
            "3       13137    male   29  Medium    97818     Middle class\n",
            "4       16241    male   36     Low    79200   Small Business\n",
            "  StockCode                                       Product Name  \\\n",
            "0     22629  Ganma Superheroes Ordinary Life Case For Samsu...   \n",
            "1     21238  Eye Buy Express Prescription Glasses Mens Wome...   \n",
            "2     22181  MightySkins Skin Decal Wrap Compatible with Ni...   \n",
            "3     84879  Mediven Sheer and Soft 15-20 mmHg Thigh w/ Lac...   \n",
            "4     84836      Stupell Industries Chevron Initial Wall D cor   \n",
            "\n",
            "                                         Description  \\\n",
            "0  New unique design, great gift.High quality pla...   \n",
            "1  Rounded rectangular cat-eye reading glasses. T...   \n",
            "2  Each Nintendo 2DS kit is printed with super-hi...   \n",
            "3  The sheerest compression stocking in its class...   \n",
            "4  Features: -Made in the USA. -Sawtooth hanger o...   \n",
            "\n",
            "                                            Category               Brand  \\\n",
            "0  Cell Phones|Cellphone Accessories|Cases & Prot...               Ganma   \n",
            "1          Health|Home Health Care|Daily Living Aids     Eye Buy Express   \n",
            "2  Video Games|Video Game Accessories|Accessories...         Mightyskins   \n",
            "3          Health|Medicine Cabinet|Braces & Supports                Medi   \n",
            "4  Home Improvement|Paint|Wall Decals|All Wall De...  Stupell Industries   \n",
            "\n",
            "   Unit Price  \n",
            "0       13.99  \n",
            "1       19.22  \n",
            "2       14.99  \n",
            "3       62.38  \n",
            "4       35.99  \n"
          ]
        }
      ]
    },
    {
      "cell_type": "code",
      "source": [
        "#4.Preprocessing the Data\n",
        "# function to check missing values\n",
        "def missing_zero_values_table(df):\n",
        "        zero_val = (df == 0.00).astype(int).sum(axis=0)\n",
        "        mis_val = df.isnull().sum()\n",
        "        mis_val_percent = 100 * df.isnull().sum() / len(df)\n",
        "        mz_table = pd.concat([zero_val, mis_val, mis_val_percent], axis=1)\n",
        "        mz_table = mz_table.rename(\n",
        "        columns = {0 : 'Zero Values', 1 : 'Missing Values', 2 : '% of Total Values'})\n",
        "        mz_table['Total Zero Missing Values'] = mz_table['Zero Values'] + mz_table['Missing Values']\n",
        "        mz_table['% Total Zero Missing Values'] = 100 * mz_table['Total Zero Missing Values'] / len(df)\n",
        "        mz_table['Data Type'] = df.dtypes\n",
        "        mz_table = mz_table[\n",
        "            mz_table.iloc[:,1] != 0].sort_values(\n",
        "        '% of Total Values', ascending=False).round(1)\n",
        "        print (\"Your selected dataframe has \" + str(df.shape[1]) + \" columns and \" + str(df.shape[0]) + \" Rows.\\n\"\n",
        "            \"There are \" + str(mz_table.shape[0]) +\n",
        "              \" columns that have missing values.\")\n",
        "#         mz_table.to_excel('D:/sampledata/missing_and_zero_values.xlsx', freeze_panes=(1,0), index = False)\n",
        "        return mz_table\n"
      ],
      "metadata": {
        "id": "k0BsMkuLt4OI"
      },
      "execution_count": 6,
      "outputs": []
    },
    {
      "cell_type": "code",
      "source": [
        "#5.let us call the function now\n",
        "missing_zero_values_table(df_customer)"
      ],
      "metadata": {
        "colab": {
          "base_uri": "https://localhost:8080/",
          "height": 88
        },
        "id": "XKTZhR_3t-wb",
        "outputId": "0127ae6f-d914-4aad-db89-f45ed07b0cc0"
      },
      "execution_count": 7,
      "outputs": [
        {
          "output_type": "stream",
          "name": "stdout",
          "text": [
            "Your selected dataframe has 6 columns and 4372 Rows.\n",
            "There are 0 columns that have missing values.\n"
          ]
        },
        {
          "output_type": "execute_result",
          "data": {
            "text/plain": [
              "Empty DataFrame\n",
              "Columns: [Zero Values, Missing Values, % of Total Values, Total Zero Missing Values, % Total Zero Missing Values, Data Type]\n",
              "Index: []"
            ],
            "text/html": [
              "\n",
              "  <div id=\"df-1869117a-37ee-451f-9ed0-43c50edf5aad\" class=\"colab-df-container\">\n",
              "    <div>\n",
              "<style scoped>\n",
              "    .dataframe tbody tr th:only-of-type {\n",
              "        vertical-align: middle;\n",
              "    }\n",
              "\n",
              "    .dataframe tbody tr th {\n",
              "        vertical-align: top;\n",
              "    }\n",
              "\n",
              "    .dataframe thead th {\n",
              "        text-align: right;\n",
              "    }\n",
              "</style>\n",
              "<table border=\"1\" class=\"dataframe\">\n",
              "  <thead>\n",
              "    <tr style=\"text-align: right;\">\n",
              "      <th></th>\n",
              "      <th>Zero Values</th>\n",
              "      <th>Missing Values</th>\n",
              "      <th>% of Total Values</th>\n",
              "      <th>Total Zero Missing Values</th>\n",
              "      <th>% Total Zero Missing Values</th>\n",
              "      <th>Data Type</th>\n",
              "    </tr>\n",
              "  </thead>\n",
              "  <tbody>\n",
              "  </tbody>\n",
              "</table>\n",
              "</div>\n",
              "    <div class=\"colab-df-buttons\">\n",
              "\n",
              "  <div class=\"colab-df-container\">\n",
              "    <button class=\"colab-df-convert\" onclick=\"convertToInteractive('df-1869117a-37ee-451f-9ed0-43c50edf5aad')\"\n",
              "            title=\"Convert this dataframe to an interactive table.\"\n",
              "            style=\"display:none;\">\n",
              "\n",
              "  <svg xmlns=\"http://www.w3.org/2000/svg\" height=\"24px\" viewBox=\"0 -960 960 960\">\n",
              "    <path d=\"M120-120v-720h720v720H120Zm60-500h600v-160H180v160Zm220 220h160v-160H400v160Zm0 220h160v-160H400v160ZM180-400h160v-160H180v160Zm440 0h160v-160H620v160ZM180-180h160v-160H180v160Zm440 0h160v-160H620v160Z\"/>\n",
              "  </svg>\n",
              "    </button>\n",
              "\n",
              "  <style>\n",
              "    .colab-df-container {\n",
              "      display:flex;\n",
              "      gap: 12px;\n",
              "    }\n",
              "\n",
              "    .colab-df-convert {\n",
              "      background-color: #E8F0FE;\n",
              "      border: none;\n",
              "      border-radius: 50%;\n",
              "      cursor: pointer;\n",
              "      display: none;\n",
              "      fill: #1967D2;\n",
              "      height: 32px;\n",
              "      padding: 0 0 0 0;\n",
              "      width: 32px;\n",
              "    }\n",
              "\n",
              "    .colab-df-convert:hover {\n",
              "      background-color: #E2EBFA;\n",
              "      box-shadow: 0px 1px 2px rgba(60, 64, 67, 0.3), 0px 1px 3px 1px rgba(60, 64, 67, 0.15);\n",
              "      fill: #174EA6;\n",
              "    }\n",
              "\n",
              "    .colab-df-buttons div {\n",
              "      margin-bottom: 4px;\n",
              "    }\n",
              "\n",
              "    [theme=dark] .colab-df-convert {\n",
              "      background-color: #3B4455;\n",
              "      fill: #D2E3FC;\n",
              "    }\n",
              "\n",
              "    [theme=dark] .colab-df-convert:hover {\n",
              "      background-color: #434B5C;\n",
              "      box-shadow: 0px 1px 3px 1px rgba(0, 0, 0, 0.15);\n",
              "      filter: drop-shadow(0px 1px 2px rgba(0, 0, 0, 0.3));\n",
              "      fill: #FFFFFF;\n",
              "    }\n",
              "  </style>\n",
              "\n",
              "    <script>\n",
              "      const buttonEl =\n",
              "        document.querySelector('#df-1869117a-37ee-451f-9ed0-43c50edf5aad button.colab-df-convert');\n",
              "      buttonEl.style.display =\n",
              "        google.colab.kernel.accessAllowed ? 'block' : 'none';\n",
              "\n",
              "      async function convertToInteractive(key) {\n",
              "        const element = document.querySelector('#df-1869117a-37ee-451f-9ed0-43c50edf5aad');\n",
              "        const dataTable =\n",
              "          await google.colab.kernel.invokeFunction('convertToInteractive',\n",
              "                                                    [key], {});\n",
              "        if (!dataTable) return;\n",
              "\n",
              "        const docLinkHtml = 'Like what you see? Visit the ' +\n",
              "          '<a target=\"_blank\" href=https://colab.research.google.com/notebooks/data_table.ipynb>data table notebook</a>'\n",
              "          + ' to learn more about interactive tables.';\n",
              "        element.innerHTML = '';\n",
              "        dataTable['output_type'] = 'display_data';\n",
              "        await google.colab.output.renderOutput(dataTable, element);\n",
              "        const docLink = document.createElement('div');\n",
              "        docLink.innerHTML = docLinkHtml;\n",
              "        element.appendChild(docLink);\n",
              "      }\n",
              "    </script>\n",
              "  </div>\n",
              "\n",
              "\n",
              "    </div>\n",
              "  </div>\n"
            ],
            "application/vnd.google.colaboratory.intrinsic+json": {
              "type": "dataframe",
              "repr_error": "Out of range float values are not JSON compliant: nan"
            }
          },
          "metadata": {},
          "execution_count": 7
        }
      ]
    },
    {
      "cell_type": "code",
      "source": [
        "#6.Exploratory Data Analysis\n",
        "# Count of gender Category\n",
        "genders = df_customer.Gender.value_counts()\n",
        "sns.set_style(\"darkgrid\")\n",
        "plt.figure(figsize=(10,4))\n",
        "sns.barplot(x=genders.index, y=genders.values)\n",
        "plt.show()\n"
      ],
      "metadata": {
        "colab": {
          "base_uri": "https://localhost:8080/",
          "height": 388
        },
        "id": "SkB65SutuE2A",
        "outputId": "74742726-762a-4dfb-fb68-04f135f9c8ce"
      },
      "execution_count": 8,
      "outputs": [
        {
          "output_type": "display_data",
          "data": {
            "text/plain": [
              "<Figure size 1000x400 with 1 Axes>"
            ],
            "image/png": "[encoded data removed]"
          },
          "metadata": {}
        }
      ]
    },
    {
      "cell_type": "code",
      "source": [
        "# age buckets against number of customers\n",
        "age18_25 = df_customer.Age[(df_customer.Age <= 25) & (df_customer.Age >= 18)]\n",
        "age26_35 = df_customer.Age[(df_customer.Age <= 35) & (df_customer.Age >= 26)]\n",
        "age36_45 = df_customer.Age[(df_customer.Age <= 45) & (df_customer.Age >= 36)]\n",
        "age46_55 = df_customer.Age[(df_customer.Age <= 55) & (df_customer.Age >= 46)]\n",
        "age55above = df_customer.Age[df_customer.Age >= 56]\n",
        "x = [\"18-25\",\"26-35\",\"36-45\",\"46-55\",\"55+\"]\n",
        "y = [len(age18_25.values),len(age26_35.values),len(age36_45.values),len(age46_55.values),len(age55above.values)]\n",
        "plt.figure(figsize=(15,6))\n",
        "sns.barplot(x=x, y=y, palette=\"rocket\")\n",
        "plt.title(\"Number of Customer and Ages\")\n",
        "plt.xlabel(\"Age\")\n",
        "plt.ylabel(\"Number of Customer\")\n",
        "plt.show()\n"
      ],
      "metadata": {
        "colab": {
          "base_uri": "https://localhost:8080/",
          "height": 669
        },
        "id": "jO_VKv_euL9k",
        "outputId": "d6769eda-7886-4e7a-f15a-5345089401c6"
      },
      "execution_count": 9,
      "outputs": [
        {
          "output_type": "stream",
          "name": "stderr",
          "text": [
            "<ipython-input-9-57fece19190f>:10: FutureWarning: \n",
            "\n",
            "Passing `palette` without assigning `hue` is deprecated and will be removed in v0.14.0. Assign the `x` variable to `hue` and set `legend=False` for the same effect.\n",
            "\n",
            "  sns.barplot(x=x, y=y, palette=\"rocket\")\n"
          ]
        },
        {
          "output_type": "display_data",
          "data": {
            "text/plain": [
              "<Figure size 1500x600 with 1 Axes>"
            ],
            "image/png": "[encoded data removed]"
          },
          "metadata": {}
        }
      ]
    },
    {
      "cell_type": "code",
      "source": [
        "#7.Let’s encode all categorical variables.\n",
        "# label_encoder object knows how to understand word labels.\n",
        "gender_encoder = preprocessing.LabelEncoder()\n",
        "segment_encoder = preprocessing.LabelEncoder()\n",
        "income_encoder =  preprocessing.LabelEncoder()\n",
        "# Encode labels in column\n",
        "df_customer['age'] = df_customer.Age\n",
        "df_customer['gender']= gender_encoder.fit_transform(df_customer['Gender'])\n",
        "df_customer['customer_segment']= segment_encoder.fit_transform(df_customer['Customer Segment'])\n",
        "df_customer['income_segment']= income_encoder.fit_transform(df_customer['Income'])\n",
        "print(\"gender_encoder\",df_customer['gender'].unique())\n",
        "print(\"segment_encoder\",df_customer['customer_segment'].unique())\n",
        "print(\"income_encoder\",df_customer['income_segment'].unique())\n"
      ],
      "metadata": {
        "colab": {
          "base_uri": "https://localhost:8080/"
        },
        "id": "oGR2VaOMuQC0",
        "outputId": "3db70b68-eb64-470a-9fcf-7c9280819477"
      },
      "execution_count": 10,
      "outputs": [
        {
          "output_type": "stream",
          "name": "stdout",
          "text": [
            "gender_encoder [1 0]\n",
            "segment_encoder [2 0 1]\n",
            "income_encoder [0 1 2]\n"
          ]
        }
      ]
    },
    {
      "cell_type": "code",
      "source": [
        "# Select all rows of df_customer  and only the last 6 columns\n",
        "# write your code here\n",
        "# Select all rows and the last 6 columns\n",
        "df_customer_last_6_cols = df_customer.iloc[:, -6:]\n",
        "\n",
        "# Display the selected columns\n",
        "print(df_customer_last_6_cols)"
      ],
      "metadata": {
        "colab": {
          "base_uri": "https://localhost:8080/"
        },
        "id": "ZFm28AcbuXXI",
        "outputId": "53053c0e-2ce9-4eb1-8f45-59459d04d5d4"
      },
      "execution_count": 11,
      "outputs": [
        {
          "output_type": "stream",
          "name": "stdout",
          "text": [
            "      Zipcode Customer Segment  age  gender  customer_segment  income_segment\n",
            "0        8625   Small Business   53       1                 2               0\n",
            "1       87797   Small Business   22       0                 2               1\n",
            "2       29257        Corporate   29       0                 0               0\n",
            "3       97818     Middle class   29       1                 1               2\n",
            "4       79200   Small Business   36       1                 2               1\n",
            "...       ...              ...  ...     ...               ...             ...\n",
            "4367    57980        Corporate   22       0                 0               0\n",
            "4368    38622     Middle class   23       1                 1               0\n",
            "4369    57985     Middle class   40       1                 1               2\n",
            "4370    91274     Middle class   37       1                 1               2\n",
            "4371    79580     Middle class   19       0                 1               2\n",
            "\n",
            "[4372 rows x 6 columns]\n"
          ]
        }
      ]
    },
    {
      "cell_type": "markdown",
      "source": [
        "## Part 2"
      ],
      "metadata": {
        "id": "L0vzMnVFxCC9"
      }
    },
    {
      "cell_type": "code",
      "source": [
        "import pandas as pd\n",
        "from sklearn.cluster import KMeans\n",
        "import matplotlib.pyplot as plt\n",
        "\n",
        "# Select numerical features for clustering\n",
        "features = df_customer[['Age', 'Income']]\n",
        "\n",
        "# Convert 'Income' column to numerical by replacing string values\n",
        "# Assuming 'High', 'Medium', 'Low' are the only string values in 'Income'\n",
        "income_mapping = {'High': 3, 'Medium': 2, 'Low': 1}  # Example mapping, adjust as needed\n",
        "features['Income'] = features['Income'].map(income_mapping)\n",
        "\n",
        "# Handle any remaining non-numeric values (e.g., NaNs)\n",
        "features = features.dropna() # Drop rows with missing values\n",
        "# or\n",
        "# features = features.fillna(0) # Fill missing values with 0\n",
        "\n",
        "\n",
        "inertia = []\n",
        "K = range(1, 16)\n",
        "\n",
        "for k in K:\n",
        "    km = KMeans(n_clusters=k, init='k-means++', random_state=42)\n",
        "    km.fit(features)\n",
        "    inertia.append(km.inertia_)\n",
        "\n",
        "# Plot the Elbow Curve\n",
        "plt.figure(figsize=(10, 6))\n",
        "plt.plot(K, inertia, marker='o')\n",
        "plt.title('Elbow Method for Optimal k')\n",
        "plt.xlabel('Number of Clusters (k)')\n",
        "plt.ylabel('Inertia')\n",
        "plt.show()"
      ],
      "metadata": {
        "colab": {
          "base_uri": "https://localhost:8080/",
          "height": 668
        },
        "id": "2HSdojjr2pax",
        "outputId": "5cdaeb5b-56fb-460e-c181-1fe78264255e"
      },
      "execution_count": 21,
      "outputs": [
        {
          "output_type": "stream",
          "name": "stderr",
          "text": [
            "<ipython-input-21-686a41d15780>:11: SettingWithCopyWarning: \n",
            "A value is trying to be set on a copy of a slice from a DataFrame.\n",
            "Try using .loc[row_indexer,col_indexer] = value instead\n",
            "\n",
            "See the caveats in the documentation: https://pandas.pydata.org/pandas-docs/stable/user_guide/indexing.html#returning-a-view-versus-a-copy\n",
            "  features['Income'] = features['Income'].map(income_mapping)\n"
          ]
        },
        {
          "output_type": "display_data",
          "data": {
            "text/plain": [
              "<Figure size 1000x600 with 1 Axes>"
            ],
            "image/png": "[encoded data removed]"
          },
          "metadata": {}
        }
      ]
    },
    {
      "cell_type": "code",
      "source": [
        "# Perform K-Means clustering with 15 clusters (or the optimal k from the elbow method)\n",
        "optimal_k = 15\n",
        "km_cust = KMeans(n_clusters=optimal_k, init='k-means++', random_state=42)\n",
        "clusters = km_cust.fit_predict(features)\n",
        "\n",
        "# Add cluster assignments to the customer dataset\n",
        "df_customer['cluster'] = clusters\n",
        "df_customer = df_customer[['CustomerID', 'Gender', 'Age', 'Income', 'Zipcode', 'Customer Segment', 'cluster']]\n",
        "print(df_customer.head())\n"
      ],
      "metadata": {
        "colab": {
          "base_uri": "https://localhost:8080/"
        },
        "id": "yb7_655S3YuY",
        "outputId": "eaad02b7-c04b-48f3-c605-251905a84bb0"
      },
      "execution_count": 22,
      "outputs": [
        {
          "output_type": "stream",
          "name": "stdout",
          "text": [
            "   CustomerID  Gender  Age  Income  Zipcode Customer Segment  cluster\n",
            "0       13089    male   53    High     8625   Small Business       12\n",
            "1       15810  female   22     Low    87797   Small Business        9\n",
            "2       15556  female   29    High    29257        Corporate        7\n",
            "3       13137    male   29  Medium    97818     Middle class        7\n",
            "4       16241    male   36     Low    79200   Small Business        2\n"
          ]
        }
      ]
    },
    {
      "cell_type": "code",
      "source": [
        "# Average age per cluster\n",
        "avg_age = df_customer.groupby('cluster')['Age'].mean()\n",
        "\n",
        "plt.figure(figsize=(10, 6))\n",
        "avg_age.plot(kind='bar', color='skyblue')\n",
        "plt.title('Average Age per Cluster')\n",
        "plt.xlabel('Cluster')\n",
        "plt.ylabel('Average Age')\n",
        "plt.show()\n"
      ],
      "metadata": {
        "colab": {
          "base_uri": "https://localhost:8080/",
          "height": 568
        },
        "id": "a7GEi6WL3ltX",
        "outputId": "f738d872-cd26-424b-9954-73052d12d5dd"
      },
      "execution_count": 23,
      "outputs": [
        {
          "output_type": "display_data",
          "data": {
            "text/plain": [
              "<Figure size 1000x600 with 1 Axes>"
            ],
            "image/png": "[encoded data removed]"
          },
          "metadata": {}
        }
      ]
    },
    {
      "cell_type": "code",
      "source": [
        "# Join customer data with order data\n",
        "order_cluster_mapping = pd.merge(df_order, df_customer, on='CustomerID', how='inner')\n",
        "\n",
        "# Select required columns\n",
        "order_cluster_mapping = order_cluster_mapping[['StockCode', 'CustomerID', 'cluster']]\n",
        "print(order_cluster_mapping.head())\n"
      ],
      "metadata": {
        "colab": {
          "base_uri": "https://localhost:8080/"
        },
        "id": "43u16tzo3sgG",
        "outputId": "930060fc-e280-484f-b7e6-e013d35de8b3"
      },
      "execution_count": 24,
      "outputs": [
        {
          "output_type": "stream",
          "name": "stdout",
          "text": [
            "  StockCode  CustomerID  cluster\n",
            "0    84029E       17850       13\n",
            "1     71053       17850       13\n",
            "2     21730       17850       13\n",
            "3    84406B       17850       13\n",
            "4     22752       17850       13\n"
          ]
        }
      ]
    },
    {
      "cell_type": "code",
      "source": [
        "# Create score_df by grouping on 'cluster' and 'StockCode'\n",
        "score_df = order_cluster_mapping.groupby(['cluster', 'StockCode']).count().reset_index()\n",
        "score_df = score_df.rename(columns={'CustomerID': 'Score'})\n",
        "print(score_df.head())\n"
      ],
      "metadata": {
        "colab": {
          "base_uri": "https://localhost:8080/"
        },
        "id": "4nxgvceH3woL",
        "outputId": "14b6c36f-65cf-4d36-ce89-1877c1342538"
      },
      "execution_count": 25,
      "outputs": [
        {
          "output_type": "stream",
          "name": "stdout",
          "text": [
            "   cluster StockCode  Score\n",
            "0        0     10002      4\n",
            "1        0     10080      2\n",
            "2        0     10120      1\n",
            "3        0     10125      1\n",
            "4        0     10133     10\n"
          ]
        }
      ]
    },
    {
      "cell_type": "code",
      "source": [
        "# Select the required columns from the dataset\n",
        "df_customer = df_customer[['CustomerID', 'Gender', 'Age', 'Income', 'Zipcode', 'Customer Segment', 'cluster']]\n",
        "print(df_customer.head())\n"
      ],
      "metadata": {
        "colab": {
          "base_uri": "https://localhost:8080/"
        },
        "id": "YCPAY30H5YAt",
        "outputId": "878ea0cc-e2d3-4b38-e18e-a5a8e9cacde6"
      },
      "execution_count": 30,
      "outputs": [
        {
          "output_type": "stream",
          "name": "stdout",
          "text": [
            "   CustomerID  Gender  Age  Income  Zipcode Customer Segment  cluster\n",
            "0       13089    male   53    High     8625   Small Business       12\n",
            "1       15810  female   22     Low    87797   Small Business        9\n",
            "2       15556  female   29    High    29257        Corporate        7\n",
            "3       13137    male   29  Medium    97818     Middle class        7\n",
            "4       16241    male   36     Low    79200   Small Business        2\n"
          ]
        }
      ]
    },
    {
      "cell_type": "code",
      "source": [
        "# Group by 'cluster' and 'StockCode', then count the number of purchases\n",
        "score_df = order_cluster_mapping.groupby(['cluster', 'StockCode']).count().reset_index()\n",
        "\n",
        "# Rename the column to 'Score' for clarity\n",
        "score_df = score_df.rename(columns={'CustomerID': 'Score'})\n",
        "print(score_df.head())\n"
      ],
      "metadata": {
        "colab": {
          "base_uri": "https://localhost:8080/"
        },
        "id": "SS0ZgWEx5X32",
        "outputId": "63c868ae-d502-496a-d55a-6ca812114194"
      },
      "execution_count": 31,
      "outputs": [
        {
          "output_type": "stream",
          "name": "stdout",
          "text": [
            "   cluster StockCode  Score\n",
            "0        0     10002      4\n",
            "1        0     10080      2\n",
            "2        0     10120      1\n",
            "3        0     10125      1\n",
            "4        0     10133     10\n"
          ]
        }
      ]
    },
    {
      "cell_type": "code",
      "source": [
        "# Preprocessing descriptions\n",
        "# Check for missing or inconsistent values in df_product\n",
        "missing_zero_values_table(df_product)\n",
        "\n",
        "# Clean the 'Description' column\n",
        "df_product['Description'] = df_product['Description'].replace({\"'ll\": \" \"}, regex=True)\n",
        "df_product['Description'] = df_product['Description'].replace({\"-\": \" \"}, regex=True)\n",
        "df_product['Description'] = df_product['Description'].replace({\"[^A-Za-z0-9 ]+\": \"\"}, regex=True)\n",
        "\n",
        "# Verify the cleaning process\n",
        "print(df_product['Description'].head())\n"
      ],
      "metadata": {
        "colab": {
          "base_uri": "https://localhost:8080/"
        },
        "id": "KdstRPUE4HG9",
        "outputId": "3e558503-709a-4e68-85e6-330582fc9e82"
      },
      "execution_count": 32,
      "outputs": [
        {
          "output_type": "stream",
          "name": "stdout",
          "text": [
            "Your selected dataframe has 8 columns and 29912 Rows.\n",
            "There are 5 columns that have missing values.\n",
            "0    New unique design great giftHigh quality plast...\n",
            "1    Rounded rectangular cat eye reading glasses Th...\n",
            "2    Each Nintendo 2DS kit is printed with super hi...\n",
            "3    The sheerest compression stocking in its class...\n",
            "4    Features  Made in the USA  Sawtooth hanger on ...\n",
            "Name: Description, dtype: object\n"
          ]
        }
      ]
    },
    {
      "cell_type": "code",
      "source": [
        "# Convert descriptions to TF-IDF features\n",
        "from sklearn.feature_extraction.text import TfidfVectorizer\n",
        "\n",
        "vectorizer = TfidfVectorizer(analyzer='word', stop_words='english')\n",
        "X = vectorizer.fit_transform(df_product['Description'])\n"
      ],
      "metadata": {
        "id": "Tg4ipHRB6Pmt"
      },
      "execution_count": 33,
      "outputs": []
    },
    {
      "cell_type": "code",
      "source": [
        "# Perform K-Means clustering on products\n",
        "km_des = KMeans(n_clusters=15, init='k-means++', random_state=42)\n",
        "clusters = km_des.fit_predict(X)\n",
        "\n",
        "# Add cluster assignments to the product dataset\n",
        "df_product['cluster'] = clusters\n",
        "print(df_product.head())\n"
      ],
      "metadata": {
        "colab": {
          "base_uri": "https://localhost:8080/"
        },
        "id": "qiy9UqaD4KQM",
        "outputId": "b2587da2-3151-42ef-9f13-3a43a9165f11"
      },
      "execution_count": 35,
      "outputs": [
        {
          "output_type": "stream",
          "name": "stdout",
          "text": [
            "  StockCode                                       Product Name  \\\n",
            "0     22629  Ganma Superheroes Ordinary Life Case For Samsu...   \n",
            "1     21238  Eye Buy Express Prescription Glasses Mens Wome...   \n",
            "2     22181  MightySkins Skin Decal Wrap Compatible with Ni...   \n",
            "3     84879  Mediven Sheer and Soft 15-20 mmHg Thigh w/ Lac...   \n",
            "4     84836      Stupell Industries Chevron Initial Wall D cor   \n",
            "\n",
            "                                         Description  \\\n",
            "0  New unique design great giftHigh quality plast...   \n",
            "1  Rounded rectangular cat eye reading glasses Th...   \n",
            "2  Each Nintendo 2DS kit is printed with super hi...   \n",
            "3  The sheerest compression stocking in its class...   \n",
            "4  Features  Made in the USA  Sawtooth hanger on ...   \n",
            "\n",
            "                                            Category               Brand  \\\n",
            "0  Cell Phones|Cellphone Accessories|Cases & Prot...               Ganma   \n",
            "1          Health|Home Health Care|Daily Living Aids     Eye Buy Express   \n",
            "2  Video Games|Video Game Accessories|Accessories...         Mightyskins   \n",
            "3          Health|Medicine Cabinet|Braces & Supports                Medi   \n",
            "4  Home Improvement|Paint|Wall Decals|All Wall De...  Stupell Industries   \n",
            "\n",
            "   Unit Price  Cluster  cluster  \n",
            "0       13.99        0        0  \n",
            "1       19.22        1        1  \n",
            "2       14.99       13       13  \n",
            "3       62.38       11        7  \n",
            "4       35.99        8       14  \n"
          ]
        }
      ]
    },
    {
      "cell_type": "code",
      "source": [
        "from sklearn.metrics.pairwise import cosine_similarity\n",
        "from sklearn.feature_extraction.text import TfidfVectorizer, ENGLISH_STOP_WORDS\n",
        "\n",
        "# Function to calculate cosine similarity\n",
        "def cosine_similarity_T(df, query):\n",
        "    \"\"\"\n",
        "    Calculate the cosine similarity between product descriptions and a given query.\n",
        "    \"\"\"\n",
        "    # Change stop_words to a list instead of frozenset\n",
        "    vec = TfidfVectorizer(analyzer='word', stop_words=list(ENGLISH_STOP_WORDS))\n",
        "    vec_train = vec.fit_transform(df['Description'])\n",
        "    vec_query = vec.transform([query])\n",
        "    within_cosine_similarity = []\n",
        "\n",
        "    for i in range(len(vec_train.todense())):\n",
        "        within_cosine_similarity.append(\n",
        "            cosine_similarity(vec_train[i, :].toarray(), vec_query.toarray())[0][0]\n",
        "        )\n",
        "\n",
        "    df['Similarity'] = within_cosine_similarity\n",
        "    return df"
      ],
      "metadata": {
        "id": "jq-jQ1TF6_TP"
      },
      "execution_count": 43,
      "outputs": []
    },
    {
      "cell_type": "code",
      "source": [
        "# Function to recommend products based on a given customer ID\n",
        "def recommend_product(customer_id):\n",
        "    \"\"\"\n",
        "    Recommend products to a customer based on their cluster and product similarity.\n",
        "    \"\"\"\n",
        "    # Identify the cluster the customer belongs to\n",
        "    customer_cluster = order_cluster_mapping[\n",
        "        order_cluster_mapping.CustomerID == customer_id\n",
        "    ]['cluster'].iloc[0]\n",
        "\n",
        "    # Get products in the same cluster\n",
        "    cluster_score_df = score_df[score_df.cluster == customer_cluster]\n",
        "\n",
        "    # Filter out products already bought by the customer\n",
        "    non_bought = cluster_score_df[\n",
        "        ~cluster_score_df.StockCode.isin(\n",
        "            order_cluster_mapping[order_cluster_mapping.CustomerID == customer_id]['StockCode']\n",
        "        )\n",
        "    ]\n",
        "\n",
        "    # Top 5 non-bought products\n",
        "    top_5_non_bought = non_bought.nlargest(5, 'Score')\n",
        "    print(\"\\n--- Top 5 Non-Bought Products ---\\n\")\n",
        "    print(top_5_non_bought)\n",
        "\n",
        "    # Display recommended product names\n",
        "    recommended_products = df_product[df_product.StockCode.isin(top_5_non_bought.StockCode)]\n",
        "    print(\"\\n--- Recommended Product Names ---\\n\")\n",
        "    print(recommended_products[['StockCode', 'Product Name']])\n",
        "\n",
        "    # Query for item similarity based on the most popular non-bought product\n",
        "    query = recommended_products.iloc[0]['Description']\n",
        "    similar_products = cosine_similarity_T(df_product, query)\n",
        "\n",
        "    # Show the top 3 most similar products\n",
        "    print(\"\\n--- Similar Products Based on Item Similarity ---\\n\")\n",
        "    print(similar_products.nlargest(3, 'Similarity')[['StockCode', 'Product Name', 'Similarity']])\n"
      ],
      "metadata": {
        "id": "a9aYC8Xh6_JQ"
      },
      "execution_count": 44,
      "outputs": []
    },
    {
      "cell_type": "code",
      "source": [
        "# Example usage:\n",
        "recommend_product(customer_id=13137)"
      ],
      "metadata": {
        "colab": {
          "base_uri": "https://localhost:8080/"
        },
        "id": "CWAjkpRl6_AO",
        "outputId": "97388700-9f0c-46fe-9351-6a182ef7eb62"
      },
      "execution_count": 45,
      "outputs": [
        {
          "output_type": "stream",
          "name": "stdout",
          "text": [
            "\n",
            "--- Top 5 Non-Bought Products ---\n",
            "\n",
            "       cluster StockCode  Score\n",
            "20170        7    85123A    148\n",
            "18653        7     22423    101\n",
            "19611        7     47566     94\n",
            "18686        7     22457     77\n",
            "18923        7     22720     73\n",
            "\n",
            "--- Recommended Product Names ---\n",
            "\n",
            "     StockCode                                       Product Name\n",
            "135     85123A  Mediven Sheer and Soft 15-20 mmHg Thigh w/ Lac...\n",
            "225      22423  Handcrafted Ercolano Music Box Featuring \"Lunc...\n",
            "526      22720  MightySkins Skin Decal Wrap Compatible with DJ...\n",
            "597      22457  3 1/2\"W x 20\"D x 20\"H Funston Craftsman Smooth...\n",
            "1048     47566  Port Authority K110 Dry Zone UV Micro-Mesh Pol...\n",
            "\n",
            "--- Similar Products Based on Item Similarity ---\n",
            "\n",
            "   StockCode                                       Product Name  Similarity\n",
            "3      84879  Mediven Sheer and Soft 15-20 mmHg Thigh w/ Lac...         1.0\n",
            "25     22301  Mediven Sheer and Soft 15-20 mmHg Thigh w/ Lac...         1.0\n",
            "47     22291  Mediven Sheer and Soft 15-20 mmHg Thigh w/ Lac...         1.0\n"
          ]
        }
      ]
    },
    {
      "cell_type": "markdown",
      "source": [
        "# The End\n",
        "      .-\"\"\"\"-.\n",
        "     / -    - \\\n",
        "    |  O    O  |\n",
        "    |     >    |\n",
        "     \\  \\__/  /\n",
        "      `-.....-`\n",
        "                /\n",
        "        /|\\\\   /\n",
        "        / | \\\\/\n",
        "          |\n",
        "        / \\\\\n",
        "        /   \\\n"
      ],
      "metadata": {
        "id": "yUCD0gw977r9"
      }
    }
  ]
}